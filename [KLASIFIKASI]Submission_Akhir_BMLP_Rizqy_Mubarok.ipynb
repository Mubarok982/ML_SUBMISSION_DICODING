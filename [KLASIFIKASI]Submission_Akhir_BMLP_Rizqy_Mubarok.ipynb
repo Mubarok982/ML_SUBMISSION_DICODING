{
  "cells": [
    {
      "cell_type": "markdown",
      "metadata": {
        "id": "XL2Vp2A_Gkty"
      },
      "source": [
        "# **1. Import Library**"
      ]
    },
    {
      "cell_type": "markdown",
      "metadata": {
        "id": "AfPmBW9CGkty"
      },
      "source": [
        "Pada tahap ini, Anda perlu mengimpor beberapa pustaka (library) Python yang dibutuhkan untuk analisis data dan pembangunan model machine learning."
      ]
    },
    {
      "cell_type": "code",
      "execution_count": 11,
      "metadata": {
        "id": "Y-XaqolLGkty"
      },
      "outputs": [],
      "source": [
        "import pandas as pd\n",
        "import numpy as np\n",
        "import matplotlib.pyplot as plt\n",
        "import seaborn as sns\n",
        "from sklearn.ensemble import GradientBoostingClassifier, RandomForestRegressor, RandomForestClassifier\n",
        "from sklearn.metrics import accuracy_score, confusion_matrix, classification_report, f1_score, mean_squared_error, r2_score, precision_score, recall_score\n",
        "from sklearn.model_selection import train_test_split, GridSearchCV, RandomizedSearchCV\n",
        "from scipy.stats import uniform, randint"
      ]
    },
    {
      "cell_type": "markdown",
      "metadata": {
        "id": "UGB5C0tYGkty"
      },
      "source": [
        "# **2. Memuat Dataset dari Hasil Clustering**"
      ]
    },
    {
      "cell_type": "markdown",
      "metadata": {
        "id": "JsHFvCkyGkty"
      },
      "source": [
        "Memuat dataset hasil clustering dari file CSV ke dalam variabel DataFrame."
      ]
    },
    {
      "cell_type": "code",
      "execution_count": 12,
      "metadata": {
        "colab": {
          "base_uri": "https://localhost:8080/",
          "height": 255
        },
        "id": "Oi92pDdJGkty",
        "outputId": "a63c98e0-12af-4c8f-f294-f299d7ed7060"
      },
      "outputs": [
        {
          "data": {
            "text/html": [
              "<div>\n",
              "<style scoped>\n",
              "    .dataframe tbody tr th:only-of-type {\n",
              "        vertical-align: middle;\n",
              "    }\n",
              "\n",
              "    .dataframe tbody tr th {\n",
              "        vertical-align: top;\n",
              "    }\n",
              "\n",
              "    .dataframe thead th {\n",
              "        text-align: right;\n",
              "    }\n",
              "</style>\n",
              "<table border=\"1\" class=\"dataframe\">\n",
              "  <thead>\n",
              "    <tr style=\"text-align: right;\">\n",
              "      <th></th>\n",
              "      <th>Artist</th>\n",
              "      <th>Track</th>\n",
              "      <th>Album</th>\n",
              "      <th>Album_type</th>\n",
              "      <th>Danceability</th>\n",
              "      <th>Energy</th>\n",
              "      <th>Loudness</th>\n",
              "      <th>Speechiness</th>\n",
              "      <th>Acousticness</th>\n",
              "      <th>Instrumentalness</th>\n",
              "      <th>...</th>\n",
              "      <th>Views</th>\n",
              "      <th>Likes</th>\n",
              "      <th>Comments</th>\n",
              "      <th>Licensed</th>\n",
              "      <th>official_video</th>\n",
              "      <th>Stream</th>\n",
              "      <th>EnergyLiveness</th>\n",
              "      <th>most_playedon</th>\n",
              "      <th>DBSCAN_Cluster_Feature_Engineered</th>\n",
              "      <th>Album_encoded</th>\n",
              "    </tr>\n",
              "  </thead>\n",
              "  <tbody>\n",
              "    <tr>\n",
              "      <th>0</th>\n",
              "      <td>686</td>\n",
              "      <td>4982</td>\n",
              "      <td>2637</td>\n",
              "      <td>0</td>\n",
              "      <td>1.195758</td>\n",
              "      <td>0.325870</td>\n",
              "      <td>0.215386</td>\n",
              "      <td>0.715524</td>\n",
              "      <td>-0.989238</td>\n",
              "      <td>-0.278033</td>\n",
              "      <td>...</td>\n",
              "      <td>2.206628</td>\n",
              "      <td>3.142135</td>\n",
              "      <td>0.748338</td>\n",
              "      <td>2</td>\n",
              "      <td>2</td>\n",
              "      <td>3.744920</td>\n",
              "      <td>-0.975635</td>\n",
              "      <td>0</td>\n",
              "      <td>-1</td>\n",
              "      <td>3675</td>\n",
              "    </tr>\n",
              "    <tr>\n",
              "      <th>1</th>\n",
              "      <td>686</td>\n",
              "      <td>12384</td>\n",
              "      <td>7751</td>\n",
              "      <td>0</td>\n",
              "      <td>0.337753</td>\n",
              "      <td>0.316536</td>\n",
              "      <td>0.401618</td>\n",
              "      <td>-0.593096</td>\n",
              "      <td>-0.714728</td>\n",
              "      <td>-0.286519</td>\n",
              "      <td>...</td>\n",
              "      <td>-0.073463</td>\n",
              "      <td>0.243086</td>\n",
              "      <td>0.021741</td>\n",
              "      <td>2</td>\n",
              "      <td>2</td>\n",
              "      <td>0.732154</td>\n",
              "      <td>2.432606</td>\n",
              "      <td>0</td>\n",
              "      <td>-1</td>\n",
              "      <td>9357</td>\n",
              "    </tr>\n",
              "    <tr>\n",
              "      <th>2</th>\n",
              "      <td>686</td>\n",
              "      <td>10329</td>\n",
              "      <td>6933</td>\n",
              "      <td>2</td>\n",
              "      <td>0.452557</td>\n",
              "      <td>1.343283</td>\n",
              "      <td>0.807923</td>\n",
              "      <td>-0.396981</td>\n",
              "      <td>-0.869913</td>\n",
              "      <td>-0.047836</td>\n",
              "      <td>...</td>\n",
              "      <td>-0.306690</td>\n",
              "      <td>-0.206274</td>\n",
              "      <td>-0.101730</td>\n",
              "      <td>2</td>\n",
              "      <td>2</td>\n",
              "      <td>-0.287107</td>\n",
              "      <td>0.677499</td>\n",
              "      <td>0</td>\n",
              "      <td>-1</td>\n",
              "      <td>8448</td>\n",
              "    </tr>\n",
              "    <tr>\n",
              "      <th>3</th>\n",
              "      <td>686</td>\n",
              "      <td>10894</td>\n",
              "      <td>7751</td>\n",
              "      <td>0</td>\n",
              "      <td>0.416303</td>\n",
              "      <td>0.484549</td>\n",
              "      <td>0.402696</td>\n",
              "      <td>-0.630536</td>\n",
              "      <td>-1.018405</td>\n",
              "      <td>2.338837</td>\n",
              "      <td>...</td>\n",
              "      <td>0.439176</td>\n",
              "      <td>0.643090</td>\n",
              "      <td>0.148465</td>\n",
              "      <td>2</td>\n",
              "      <td>2</td>\n",
              "      <td>1.246198</td>\n",
              "      <td>1.549377</td>\n",
              "      <td>0</td>\n",
              "      <td>-1</td>\n",
              "      <td>9357</td>\n",
              "    </tr>\n",
              "    <tr>\n",
              "      <th>4</th>\n",
              "      <td>686</td>\n",
              "      <td>2897</td>\n",
              "      <td>4139</td>\n",
              "      <td>0</td>\n",
              "      <td>0.259203</td>\n",
              "      <td>0.274533</td>\n",
              "      <td>-0.204499</td>\n",
              "      <td>0.662038</td>\n",
              "      <td>-0.930030</td>\n",
              "      <td>-0.290067</td>\n",
              "      <td>...</td>\n",
              "      <td>1.931223</td>\n",
              "      <td>3.128841</td>\n",
              "      <td>0.675226</td>\n",
              "      <td>2</td>\n",
              "      <td>2</td>\n",
              "      <td>1.999630</td>\n",
              "      <td>1.159779</td>\n",
              "      <td>1</td>\n",
              "      <td>-1</td>\n",
              "      <td>5344</td>\n",
              "    </tr>\n",
              "  </tbody>\n",
              "</table>\n",
              "<p>5 rows × 26 columns</p>\n",
              "</div>"
            ],
            "text/plain": [
              "   Artist  Track  Album  Album_type  Danceability    Energy  Loudness  \\\n",
              "0     686   4982   2637           0      1.195758  0.325870  0.215386   \n",
              "1     686  12384   7751           0      0.337753  0.316536  0.401618   \n",
              "2     686  10329   6933           2      0.452557  1.343283  0.807923   \n",
              "3     686  10894   7751           0      0.416303  0.484549  0.402696   \n",
              "4     686   2897   4139           0      0.259203  0.274533 -0.204499   \n",
              "\n",
              "   Speechiness  Acousticness  Instrumentalness  ...     Views     Likes  \\\n",
              "0     0.715524     -0.989238         -0.278033  ...  2.206628  3.142135   \n",
              "1    -0.593096     -0.714728         -0.286519  ... -0.073463  0.243086   \n",
              "2    -0.396981     -0.869913         -0.047836  ... -0.306690 -0.206274   \n",
              "3    -0.630536     -1.018405          2.338837  ...  0.439176  0.643090   \n",
              "4     0.662038     -0.930030         -0.290067  ...  1.931223  3.128841   \n",
              "\n",
              "   Comments  Licensed  official_video    Stream  EnergyLiveness  \\\n",
              "0  0.748338         2               2  3.744920       -0.975635   \n",
              "1  0.021741         2               2  0.732154        2.432606   \n",
              "2 -0.101730         2               2 -0.287107        0.677499   \n",
              "3  0.148465         2               2  1.246198        1.549377   \n",
              "4  0.675226         2               2  1.999630        1.159779   \n",
              "\n",
              "   most_playedon  DBSCAN_Cluster_Feature_Engineered  Album_encoded  \n",
              "0              0                                 -1           3675  \n",
              "1              0                                 -1           9357  \n",
              "2              0                                 -1           8448  \n",
              "3              0                                 -1           9357  \n",
              "4              1                                 -1           5344  \n",
              "\n",
              "[5 rows x 26 columns]"
            ]
          },
          "execution_count": 12,
          "metadata": {},
          "output_type": "execute_result"
        }
      ],
      "source": [
        "data = pd.read_csv('data_with_clusters.csv')\n",
        "data.head()"
      ]
    },
    {
      "cell_type": "markdown",
      "metadata": {
        "id": "wiwYLc_LGkty"
      },
      "source": [
        "# **3. Data Splitting**"
      ]
    },
    {
      "cell_type": "markdown",
      "metadata": {
        "id": "pZJ8g0DTGkty"
      },
      "source": [
        "Tahap Data Splitting bertujuan untuk memisahkan dataset menjadi dua bagian: data latih (training set) dan data uji (test set)."
      ]
    },
    {
      "cell_type": "code",
      "execution_count": 13,
      "metadata": {
        "colab": {
          "base_uri": "https://localhost:8080/"
        },
        "id": "qKJbv935Gktz",
        "outputId": "1575c71a-3545-4f3d-817c-356dd231427c"
      },
      "outputs": [
        {
          "name": "stdout",
          "output_type": "stream",
          "text": [
            "Ukuran data latih (X_train): (16475, 24)\n",
            "Ukuran data uji (X_test): (4119, 24)\n"
          ]
        }
      ],
      "source": [
        "# Menentukan fitur dan target\n",
        "# Misalnya kita ingin memprediksi 'Stream' sebagai target, dan sisanya sebagai fitur\n",
        "X = data.drop(columns=['Stream', 'DBSCAN_Cluster_Feature_Engineered'])\n",
        "y = data['DBSCAN_Cluster_Feature_Engineered']\n",
        "\n",
        "# Melakukan splitting data\n",
        "X_train, X_test, y_train, y_test = train_test_split(X, y, test_size=0.2, random_state=42)\n",
        "\n",
        "# Menampilkan ukuran dataset\n",
        "print(f\"Ukuran data latih (X_train): {X_train.shape}\")\n",
        "print(f\"Ukuran data uji (X_test): {X_test.shape}\")\n"
      ]
    },
    {
      "cell_type": "markdown",
      "metadata": {
        "id": "OqwidneFGktz"
      },
      "source": [
        "# **4. Membangun Model Klasifikasi**\n"
      ]
    },
    {
      "cell_type": "markdown",
      "metadata": {
        "id": "vhkoWy-CGktz"
      },
      "source": [
        "## **a. Membangun Model Klasifikasi**"
      ]
    },
    {
      "cell_type": "markdown",
      "metadata": {
        "id": "dKqIhGg9Gktz"
      },
      "source": [
        "Setelah memilih algoritma klasifikasi yang sesuai, langkah selanjutnya adalah melatih model menggunakan data latih.\n",
        "\n",
        "Berikut adalah rekomendasi tahapannya.\n",
        "1. Pilih algoritma klasifikasi yang sesuai, seperti Logistic Regression, Decision Tree, Random Forest, atau K-Nearest Neighbors (KNN).\n",
        "2. Latih model menggunakan data latih."
      ]
    },
    {
      "cell_type": "code",
      "execution_count": 14,
      "metadata": {
        "colab": {
          "base_uri": "https://localhost:8080/"
        },
        "id": "_HtcDSYoGktz",
        "outputId": "b0a3f1bd-5c82-4c05-f300-6593cef78825"
      },
      "outputs": [
        {
          "name": "stdout",
          "output_type": "stream",
          "text": [
            "Mean Squared Error Random Forest Classifier: 0.00\n"
          ]
        }
      ],
      "source": [
        "# Membuat model Random Forest Classifier\n",
        "model_rfc = RandomForestClassifier(random_state=42)\n",
        "\n",
        "# Melatih model dengan data latih\n",
        "model_rfc.fit(X_train, y_train)\n",
        "\n",
        "# Prediksi pada data uji\n",
        "y_pred_rfc = model_rfc.predict(X_test)\n",
        "\n",
        "# Menghitung Mean Squared Error (MSE) sebagai evaluasi\n",
        "mse_rf = mean_squared_error(y_test, y_pred_rfc)\n",
        "print(f\"Mean Squared Error Random Forest Classifier: {mse_rf:.2f}\")\n"
      ]
    },
    {
      "cell_type": "markdown",
      "metadata": {
        "id": "6mShuErhGktz"
      },
      "source": [
        ":pada pelatihan kali ini saya menggunakan algoritma RandomforestClassifier"
      ]
    },
    {
      "cell_type": "markdown",
      "metadata": {
        "id": "7yk0TCP_Gktz"
      },
      "source": [
        "## **b. Evaluasi Model Klasifikasi**"
      ]
    },
    {
      "cell_type": "markdown",
      "metadata": {
        "id": "e8Zt2ZDdGkt0"
      },
      "source": [
        "Berikut adalah **rekomendasi** tahapannya.\n",
        "1. Lakukan prediksi menggunakan data uji.\n",
        "2. Hitung metrik evaluasi seperti Accuracy dan F1-Score (Opsional: Precision dan Recall).\n",
        "3. Buat confusion matrix untuk melihat detail prediksi benar dan salah."
      ]
    },
    {
      "cell_type": "code",
      "execution_count": 15,
      "metadata": {
        "colab": {
          "base_uri": "https://localhost:8080/"
        },
        "id": "Z9nicLdkGkt0",
        "outputId": "63c33e37-08cc-484a-89e5-114047fb060a"
      },
      "outputs": [
        {
          "name": "stdout",
          "output_type": "stream",
          "text": [
            "Fitting 3 folds for each of 50 candidates, totalling 150 fits\n",
            "Best Hyperparameters (Randomized Search): {'max_depth': 19, 'max_features': None, 'min_samples_leaf': 1, 'min_samples_split': 3, 'n_estimators': 179}\n",
            "Testing Accuracy: 1.00\n",
            "Testing F1-Score: 1.00\n",
            "Testing Precision: 1.00\n",
            "Testing Recall: 1.00\n"
          ]
        },
        {
          "data": {
            "image/png": "[encoded data removed]",
            "text/plain": [
              "<Figure size 800x600 with 2 Axes>"
            ]
          },
          "metadata": {},
          "output_type": "display_data"
        },
        {
          "name": "stdout",
          "output_type": "stream",
          "text": [
            "\n",
            "Classification Report:\n",
            "              precision    recall  f1-score   support\n",
            "\n",
            "          -1       1.00      1.00      1.00      4105\n",
            "           0       1.00      1.00      1.00         8\n",
            "           1       1.00      1.00      1.00         2\n",
            "           2       1.00      1.00      1.00         3\n",
            "           3       1.00      1.00      1.00         1\n",
            "\n",
            "    accuracy                           1.00      4119\n",
            "   macro avg       1.00      1.00      1.00      4119\n",
            "weighted avg       1.00      1.00      1.00      4119\n",
            "\n"
          ]
        }
      ],
      "source": [
        "# Inisialisasi model Random Forest untuk klasifikasi\n",
        "rfc = RandomForestClassifier(random_state=42)\n",
        "\n",
        "# Parameter untuk tuning\n",
        "param_dist = {\n",
        "    'n_estimators': randint(50, 300),          # Jumlah pohon (50-300)\n",
        "    'max_depth': randint(3, 20),              # Kedalaman pohon (3-20)\n",
        "    'min_samples_split': randint(2, 20),      # Minimum sampel untuk split\n",
        "    'min_samples_leaf': randint(1, 10),       # Minimum sampel per daun\n",
        "    'max_features': ['sqrt', 'log2', None]    # Fitur yang dipakai tiap split\n",
        "}\n",
        "\n",
        "# Randomized Search untuk hyperparameter tuning\n",
        "random_search = RandomizedSearchCV(\n",
        "    estimator=rfc,\n",
        "    param_distributions=param_dist,\n",
        "    n_iter=50,  # Jumlah iterasi pencarian\n",
        "    cv=3,       # Cross-validation (3 fold)\n",
        "    scoring='accuracy',  # Gunakan Accuracy sebagai metrik utama\n",
        "    random_state=42,\n",
        "    verbose=1,\n",
        "    n_jobs=-1\n",
        ")\n",
        "\n",
        "# Fit model pada training set\n",
        "random_search.fit(X_train, y_train)\n",
        "\n",
        "# Model terbaik dari Randomized Search\n",
        "best_rfc = random_search.best_estimator_\n",
        "\n",
        "# Prediksi pada training dan testing set\n",
        "y_train_pred = best_rfc.predict(X_train)\n",
        "y_test_pred = best_rfc.predict(X_test)\n",
        "\n",
        "# Evaluasi pada testing set\n",
        "test_accuracy = accuracy_score(y_test, y_test_pred)\n",
        "test_f1 = f1_score(y_test, y_test_pred, average='weighted')  # Menggunakan rata-rata weighted untuk multi-class\n",
        "test_precision = precision_score(y_test, y_test_pred, average='weighted')\n",
        "test_recall = recall_score(y_test, y_test_pred, average='weighted')\n",
        "\n",
        "# Output hasil evaluasi\n",
        "print(\"Best Hyperparameters (Randomized Search):\", random_search.best_params_)\n",
        "print(f\"Testing Accuracy: {test_accuracy:.2f}\")\n",
        "print(f\"Testing F1-Score: {test_f1:.2f}\")\n",
        "print(f\"Testing Precision: {test_precision:.2f}\")\n",
        "print(f\"Testing Recall: {test_recall:.2f}\")\n",
        "\n",
        "# Confusion Matrix\n",
        "conf_matrix = confusion_matrix(y_test, y_test_pred)\n",
        "\n",
        "# Visualisasi Confusion Matrix\n",
        "plt.figure(figsize=(8, 6))\n",
        "sns.heatmap(conf_matrix, annot=True, fmt='d', cmap='Blues', xticklabels=best_rfc.classes_, yticklabels=best_rfc.classes_)\n",
        "plt.title('Confusion Matrix')\n",
        "plt.xlabel('Predicted')\n",
        "plt.ylabel('Actual')\n",
        "plt.show()\n",
        "\n",
        "# Menampilkan laporan klasifikasi\n",
        "print(\"\\nClassification Report:\")\n",
        "print(classification_report(y_test, y_test_pred))\n"
      ]
    },
    {
      "cell_type": "markdown",
      "metadata": {
        "id": "xWft1GscGkt0"
      },
      "source": [
        "Tulis hasil evaluasi algoritma yang digunakan, jika Anda menggunakan 2 algoritma, maka bandingkan hasilnya."
      ]
    },
    {
      "cell_type": "markdown",
      "metadata": {
        "id": "3BeXYNgsGkt0"
      },
      "source": [
        "## **c. Tuning Model Klasifikasi (Optional)**"
      ]
    },
    {
      "cell_type": "markdown",
      "metadata": {
        "id": "3CI3r5FEGkt0"
      },
      "source": [
        "Gunakan GridSearchCV, RandomizedSearchCV, atau metode lainnya untuk mencari kombinasi hyperparameter terbaik"
      ]
    },
    {
      "cell_type": "markdown",
      "metadata": {
        "id": "Ko_lI6kMdurU"
      },
      "source": [
        "### GridSearch"
      ]
    },
    {
      "cell_type": "code",
      "execution_count": 16,
      "metadata": {
        "id": "EunEEY4zGkt0"
      },
      "outputs": [
        {
          "name": "stdout",
          "output_type": "stream",
          "text": [
            "Fitting 3 folds for each of 16 candidates, totalling 48 fits\n",
            "Best Hyperparameters (Grid Search): {'max_depth': None, 'min_samples_leaf': 1, 'min_samples_split': 5, 'n_estimators': 100}\n",
            "RMSE (Grid Search): 0.03\n",
            "Fitting 3 folds for each of 20 candidates, totalling 60 fits\n",
            "Best Hyperparameters (Randomized Search): {'max_depth': 20, 'min_samples_leaf': 1, 'min_samples_split': 5, 'n_estimators': 149}\n",
            "RMSE (Randomized Search): 0.00\n"
          ]
        }
      ],
      "source": [
        "# Definisi model\n",
        "rf_model = RandomForestClassifier(random_state=42)\n",
        "\n",
        "# Grid Search dengan kombinasi parameter lebih sedikit agar tidak membebani komputasi\n",
        "param_grid = {\n",
        "    'n_estimators': [50, 100],\n",
        "    'max_depth': [None, 10],\n",
        "    'min_samples_split': [2, 5],\n",
        "    'min_samples_leaf': [1, 2]\n",
        "}\n",
        "grid_search = GridSearchCV(\n",
        "    estimator=rf_model,\n",
        "    param_grid=param_grid,\n",
        "    scoring='neg_mean_squared_error',\n",
        "    cv=3,\n",
        "    n_jobs=-1,\n",
        "    verbose=1\n",
        ")\n",
        "\n",
        "# Latih model dengan Grid Search\n",
        "grid_search.fit(X_train, y_train)\n",
        "print(f\"Best Hyperparameters (Grid Search): {grid_search.best_params_}\")\n",
        "best_model_grid = grid_search.best_estimator_\n",
        "\n",
        "# Evaluasi model Grid Search\n",
        "y_pred_grid = best_model_grid.predict(X_test)\n",
        "rmse_grid = np.sqrt(mean_squared_error(y_test, y_pred_grid))  # Menghitung RMSE manual\n",
        "print(f\"RMSE (Grid Search): {rmse_grid:.2f}\")\n",
        "\n",
        "# Randomized Search dengan iterasi lebih sedikit\n",
        "param_dist = {\n",
        "    'n_estimators': randint(50, 150),\n",
        "    'max_depth': [None, 10, 20],\n",
        "    'min_samples_split': randint(2, 6),\n",
        "    'min_samples_leaf': randint(1, 3)\n",
        "}\n",
        "random_search = RandomizedSearchCV(\n",
        "    estimator=rf_model,\n",
        "    param_distributions=param_dist,\n",
        "    n_iter=20,\n",
        "    cv=3,\n",
        "    n_jobs=-1,\n",
        "    verbose=1,\n",
        "    scoring='neg_mean_squared_error',\n",
        "    random_state=42\n",
        ")\n",
        "\n",
        "# Latih model dengan Randomized Search\n",
        "random_search.fit(X_train, y_train)\n",
        "print(f\"Best Hyperparameters (Randomized Search): {random_search.best_params_}\")\n",
        "best_model_random = random_search.best_estimator_\n",
        "\n",
        "# Evaluasi model Randomized Search\n",
        "y_pred_random = best_model_random.predict(X_test)\n",
        "rmse_random = np.sqrt(mean_squared_error(y_test, y_pred_random))  # Menghitung RMSE manual\n",
        "print(f\"RMSE (Randomized Search): {rmse_random:.2f}\")\n"
      ]
    },
    {
      "cell_type": "markdown",
      "metadata": {
        "id": "Jr3w3pWlGkt0"
      },
      "source": [
        "## **d. Evaluasi Model Klasifikasi setelah Tuning (Optional)**"
      ]
    },
    {
      "cell_type": "markdown",
      "metadata": {
        "id": "i65fsi13Gkt0"
      },
      "source": [
        "Berikut adalah rekomendasi tahapannya.\n",
        "1. Gunakan model dengan hyperparameter terbaik.\n",
        "2. Hitung ulang metrik evaluasi untuk melihat apakah ada peningkatan performa."
      ]
    },
    {
      "cell_type": "code",
      "execution_count": 18,
      "metadata": {
        "id": "s4voS49eyQrG"
      },
      "outputs": [
        {
          "name": "stdout",
          "output_type": "stream",
          "text": [
            "MSE Sebelum Tuning: 0.00\n",
            "R-squared Sebelum Tuning: 1.00\n",
            "MSE Setelah Tuning (Grid Search): 0.00\n",
            "R-squared Setelah Tuning (Grid Search): 0.95\n"
          ]
        },
        {
          "name": "stderr",
          "output_type": "stream",
          "text": [
            "C:\\Users\\rizqy\\AppData\\Roaming\\Python\\Python312\\site-packages\\sklearn\\model_selection\\_search.py:317: UserWarning: The total space of parameters 9 is smaller than n_iter=10. Running 9 iterations. For exhaustive searches, use GridSearchCV.\n",
            "  warnings.warn(\n"
          ]
        },
        {
          "name": "stdout",
          "output_type": "stream",
          "text": [
            "MSE Setelah Tuning (Randomized Search): 0.00\n",
            "R-squared Setelah Tuning (Randomized Search): 0.95\n"
          ]
        }
      ],
      "source": [
        "# 1. Akurasi Sebelum Tuning (Model tanpa tuning)\n",
        "model_initial = RandomForestClassifier(random_state=42)\n",
        "model_initial.fit(X_train, y_train)\n",
        "y_pred_initial = model_initial.predict(X_test)\n",
        "\n",
        "# Menghitung metrik evaluasi untuk model awal\n",
        "mse_initial = mean_squared_error(y_test, y_pred_initial)\n",
        "r2_initial = r2_score(y_test, y_pred_initial)\n",
        "print(f\"MSE Sebelum Tuning: {mse_initial:.2f}\")\n",
        "print(f\"R-squared Sebelum Tuning: {r2_initial:.2f}\")\n",
        "\n",
        "# 2. Akurasi Setelah Tuning (Grid Search)\n",
        "param_grid = {'n_estimators': [100, 200], 'max_depth': [None, 10, 20]}\n",
        "grid_search = GridSearchCV(RandomForestRegressor(random_state=42), param_grid, cv=5)\n",
        "grid_search.fit(X_train, y_train)\n",
        "y_pred_grid = grid_search.predict(X_test)\n",
        "\n",
        "# Menghitung metrik evaluasi untuk model Grid Search\n",
        "mse_grid = mean_squared_error(y_test, y_pred_grid)\n",
        "r2_grid = r2_score(y_test, y_pred_grid)\n",
        "print(f\"MSE Setelah Tuning (Grid Search): {mse_grid:.2f}\")\n",
        "print(f\"R-squared Setelah Tuning (Grid Search): {r2_grid:.2f}\")\n",
        "\n",
        "# 3. Akurasi Setelah Tuning (Randomized Search)\n",
        "param_dist = {'n_estimators': [100, 200, 300], 'max_depth': [None, 10, 20]}\n",
        "random_search = RandomizedSearchCV(RandomForestRegressor(random_state=42), param_dist, n_iter=10, cv=5)\n",
        "random_search.fit(X_train, y_train)\n",
        "y_pred_random = random_search.predict(X_test)\n",
        "\n",
        "# Menghitung metrik evaluasi untuk model Randomized Search \n",
        "mse_random = mean_squared_error(y_test, y_pred_random)\n",
        "r2_random = r2_score(y_test, y_pred_random)\n",
        "print(f\"MSE Setelah Tuning (Randomized Search): {mse_random:.2f}\")\n",
        "print(f\"R-squared Setelah Tuning (Randomized Search): {r2_random:.2f}\")\n"
      ]
    },
    {
      "cell_type": "markdown",
      "metadata": {
        "id": "-o99n1-WGkt0"
      },
      "source": [
        "## **e. Analisis Hasil Evaluasi Model Klasifikasi**"
      ]
    },
    {
      "cell_type": "markdown",
      "metadata": {
        "id": "3fggwShAGkt0"
      },
      "source": [
        "Berikut adalah **rekomendasi** tahapannya.\n",
        "1. Bandingkan hasil evaluasi sebelum dan setelah tuning:\n",
        "  - setelah proses hyperparameter tuning hasil evaluasi akhir tidak memiliki perbedaan yang signifikan.\n",
        "2. Identifikasi kelemahan model, seperti:\n",
        "  - Precision atau Recall rendah untuk kelas tertentu.\n",
        "     - preicision dan recall berada di tingkatan yang sama\n",
        "  - Apakah model mengalami overfitting atau underfitting?\n",
        "3. Berikan rekomendasi tindakan lanjutan, seperti mengumpulkan data tambahan atau mencoba algoritma lain jika hasil belum memuaskan."
      ]
    },
    {
      "cell_type": "markdown",
      "metadata": {
        "id": "_D6kC3rhuUZg"
      },
      "source": [
        "### Rekomendai Hasil Evaluasi Model KLasifikasi\n",
        "   #### 1.Coba Model Lain\n",
        "   ##### model kedua yang saya pakai adalah Gradient Boosting Machines (GBM)\n",
        "   ####"
      ]
    },
    {
      "cell_type": "code",
      "execution_count": 20,
      "metadata": {
        "id": "HsMuHjaT9nQF"
      },
      "outputs": [
        {
          "name": "stdout",
          "output_type": "stream",
          "text": [
            "Fitting 3 folds for each of 50 candidates, totalling 150 fits\n"
          ]
        },
        {
          "name": "stderr",
          "output_type": "stream",
          "text": [
            "C:\\Users\\rizqy\\AppData\\Roaming\\Python\\Python312\\site-packages\\sklearn\\model_selection\\_search.py:1107: UserWarning: One or more of the test scores are non-finite: [nan nan nan nan nan nan nan nan nan nan nan nan nan nan nan nan nan nan\n",
            " nan nan nan nan nan nan nan nan nan nan nan nan nan nan nan nan nan nan\n",
            " nan nan nan nan nan nan nan nan nan nan nan nan nan nan]\n",
            "  warnings.warn(\n"
          ]
        },
        {
          "name": "stdout",
          "output_type": "stream",
          "text": [
            "Best Hyperparameters (Randomized Search): {'learning_rate': np.float64(0.12236203565420874), 'max_depth': 7, 'max_features': None, 'min_samples_leaf': 8, 'min_samples_split': 8, 'n_estimators': 171, 'subsample': np.float64(0.7467983561008608)}\n",
            "Training Accuracy: 99.79%\n",
            "Training F1-Score: 99.82%\n",
            "Testing Accuracy: 99.66%\n",
            "Testing F1-Score: 99.67%\n",
            "\n",
            "Classification Report (Testing Set):\n",
            "              precision    recall  f1-score   support\n",
            "\n",
            "          -1       1.00      1.00      1.00      4105\n",
            "           0       0.73      1.00      0.84         8\n",
            "           1       0.25      1.00      0.40         2\n",
            "           2       0.00      0.00      0.00         3\n",
            "           3       0.00      0.00      0.00         1\n",
            "\n",
            "    accuracy                           1.00      4119\n",
            "   macro avg       0.40      0.60      0.45      4119\n",
            "weighted avg       1.00      1.00      1.00      4119\n",
            "\n",
            "\n",
            "Confusion Matrix (Testing Set):\n",
            "[[4095    3    6    0    1]\n",
            " [   0    8    0    0    0]\n",
            " [   0    0    2    0    0]\n",
            " [   3    0    0    0    0]\n",
            " [   1    0    0    0    0]]\n"
          ]
        },
        {
          "name": "stderr",
          "output_type": "stream",
          "text": [
            "C:\\Users\\rizqy\\AppData\\Roaming\\Python\\Python312\\site-packages\\sklearn\\metrics\\_classification.py:1565: UndefinedMetricWarning: Precision is ill-defined and being set to 0.0 in labels with no predicted samples. Use `zero_division` parameter to control this behavior.\n",
            "  _warn_prf(average, modifier, f\"{metric.capitalize()} is\", len(result))\n",
            "C:\\Users\\rizqy\\AppData\\Roaming\\Python\\Python312\\site-packages\\sklearn\\metrics\\_classification.py:1565: UndefinedMetricWarning: Precision is ill-defined and being set to 0.0 in labels with no predicted samples. Use `zero_division` parameter to control this behavior.\n",
            "  _warn_prf(average, modifier, f\"{metric.capitalize()} is\", len(result))\n",
            "C:\\Users\\rizqy\\AppData\\Roaming\\Python\\Python312\\site-packages\\sklearn\\metrics\\_classification.py:1565: UndefinedMetricWarning: Precision is ill-defined and being set to 0.0 in labels with no predicted samples. Use `zero_division` parameter to control this behavior.\n",
            "  _warn_prf(average, modifier, f\"{metric.capitalize()} is\", len(result))\n"
          ]
        }
      ],
      "source": [
        "# Inisialisasi model Gradient Boosting \n",
        "gbm = GradientBoostingClassifier(random_state=42)\n",
        "\n",
        "# Parameter untuk tuning\n",
        "param_dist = {\n",
        "    'n_estimators': randint(50, 300),         # Jumlah pohon (50-300)\n",
        "    'learning_rate': uniform(0.01, 0.3),      # Learning rate (0.01 - 0.3)\n",
        "    'max_depth': randint(3, 10),              # Kedalaman pohon (3-10)\n",
        "    'min_samples_split': randint(2, 20),      # Minimum sampel untuk split\n",
        "    'min_samples_leaf': randint(1, 10),       # Minimum sampel per daun\n",
        "    'subsample': uniform(0.7, 0.3),           # Subsampling untuk data (70%-100%)\n",
        "    'max_features': ['sqrt', 'log2', None]    # Fitur yang dipakai tiap split\n",
        "}\n",
        "\n",
        "# Randomized Search untuk hyperparameter tuning\n",
        "random_search = RandomizedSearchCV(\n",
        "    estimator=gbm,\n",
        "    param_distributions=param_dist,\n",
        "    n_iter=50,  # Jumlah iterasi pencarian\n",
        "    cv=3,       # Cross-validation (3 fold)\n",
        "    scoring='f1',  # Gunakan F1-Score sebagai metrik utama\n",
        "    random_state=42,\n",
        "    verbose=1,\n",
        "    n_jobs=-1\n",
        ")\n",
        "\n",
        "# Fit model pada training set\n",
        "random_search.fit(X_train, y_train)\n",
        "\n",
        "# Model terbaik dari Randomized Search\n",
        "best_gbm = random_search.best_estimator_\n",
        "\n",
        "# Prediksi pada training dan testing set\n",
        "y_train_pred = best_gbm.predict(X_train)\n",
        "y_test_pred = best_gbm.predict(X_test)\n",
        "\n",
        "# Evaluasi pada training set\n",
        "train_accuracy = accuracy_score(y_train, y_train_pred)\n",
        "train_f1 = f1_score(y_train, y_train_pred, average='weighted')\n",
        "\n",
        "# Evaluasi pada testing set\n",
        "test_accuracy = accuracy_score(y_test, y_test_pred)\n",
        "test_f1 = f1_score(y_test, y_test_pred, average='weighted')\n",
        "\n",
        "# Output hasil\n",
        "print(\"Best Hyperparameters (Randomized Search):\", random_search.best_params_)\n",
        "print(f\"Training Accuracy: {train_accuracy:.2%}\")\n",
        "print(f\"Training F1-Score: {train_f1:.2%}\")\n",
        "print(f\"Testing Accuracy: {test_accuracy:.2%}\")\n",
        "print(f\"Testing F1-Score: {test_f1:.2%}\")\n",
        "print(\"\\nClassification Report (Testing Set):\")\n",
        "print(classification_report(y_test, y_test_pred))\n",
        "print(\"\\nConfusion Matrix (Testing Set):\")\n",
        "print(confusion_matrix(y_test, y_test_pred))\n"
      ]
    }
  ],
  "metadata": {
    "colab": {
      "provenance": []
    },
    "kernelspec": {
      "display_name": "Banjir_notebook",
      "language": "python",
      "name": "python3"
    },
    "language_info": {
      "codemirror_mode": {
        "name": "ipython",
        "version": 3
      },
      "file_extension": ".py",
      "mimetype": "text/x-python",
      "name": "python",
      "nbconvert_exporter": "python",
      "pygments_lexer": "ipython3",
      "version": "3.12.8"
    }
  },
  "nbformat": 4,
  "nbformat_minor": 0
}
