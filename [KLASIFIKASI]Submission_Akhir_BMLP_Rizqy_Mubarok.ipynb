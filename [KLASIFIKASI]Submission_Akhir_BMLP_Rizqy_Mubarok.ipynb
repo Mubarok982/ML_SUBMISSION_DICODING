{
  "nbformat": 4,
  "nbformat_minor": 0,
  "metadata": {
    "colab": {
      "provenance": []
    },
    "kernelspec": {
      "name": "python3",
      "display_name": "Python 3"
    },
    "language_info": {
      "name": "python"
    }
  },
  "cells": [
    {
      "cell_type": "markdown",
      "source": [
        "# **1. Import Library**"
      ],
      "metadata": {
        "id": "fKADPWcFKlj3"
      }
    },
    {
      "cell_type": "markdown",
      "source": [
        "# **1. Import Library**"
      ],
      "metadata": {
        "id": "XL2Vp2A_Gkty"
      }
    },
    {
      "cell_type": "markdown",
      "source": [
        "Pada tahap ini, Anda perlu mengimpor beberapa pustaka (library) Python yang dibutuhkan untuk analisis data dan pembangunan model machine learning."
      ],
      "metadata": {
        "id": "AfPmBW9CGkty"
      }
    },
    {
      "cell_type": "code",
      "source": [
        "import pandas as pd\n",
        "import numpy as np\n",
        "from sklearn.model_selection import train_test_split\n",
        "from sklearn.model_selection import train_test_split, GridSearchCV\n",
        "from sklearn.ensemble import RandomForestClassifier\n",
        "from sklearn.metrics import accuracy_score, confusion_matrix, classification_report\n",
        "from sklearn.model_selection import RandomizedSearchCV\n",
        "from scipy.stats import randint\n",
        "from sklearn.model_selection import train_test_split, GridSearchCV, RandomizedSearchCV"
      ],
      "metadata": {
        "id": "Y-XaqolLGkty"
      },
      "execution_count": 4,
      "outputs": []
    },
    {
      "cell_type": "markdown",
      "source": [
        "# **2. Memuat Dataset dari Hasil Clustering**"
      ],
      "metadata": {
        "id": "UGB5C0tYGkty"
      }
    },
    {
      "cell_type": "markdown",
      "source": [
        "Memuat dataset hasil clustering dari file CSV ke dalam variabel DataFrame."
      ],
      "metadata": {
        "id": "JsHFvCkyGkty"
      }
    },
    {
      "cell_type": "code",
      "source": [
        "data = pd.read_csv('data_with_clusters.csv')\n",
        "data.head()"
      ],
      "metadata": {
        "id": "Oi92pDdJGkty",
        "colab": {
          "base_uri": "https://localhost:8080/",
          "height": 255
        },
        "outputId": "cb5080e1-4ddc-48a3-d4f7-e18d8322d956"
      },
      "execution_count": 5,
      "outputs": [
        {
          "output_type": "execute_result",
          "data": {
            "text/plain": [
              "   Artist  Track  Album  Album_type  Danceability    Energy  Loudness  \\\n",
              "0     686   4982   2637           0      1.195758  0.325870  0.215386   \n",
              "1     686  12384   7751           0      0.337753  0.316536  0.401618   \n",
              "2     686  10329   6933           2      0.452557  1.343283  0.807923   \n",
              "3     686  10894   7751           0      0.416303  0.484549  0.402696   \n",
              "4     686   2897   4139           0      0.259203  0.274533 -0.204499   \n",
              "\n",
              "   Speechiness  Acousticness  Instrumentalness  ...  Comments  Licensed  \\\n",
              "0     0.715524     -0.989238         -0.278033  ...  0.748338         2   \n",
              "1    -0.593096     -0.714728         -0.286519  ...  0.021741         2   \n",
              "2    -0.396981     -0.869913         -0.047836  ... -0.101730         2   \n",
              "3    -0.630536     -1.018405          2.338837  ...  0.148465         2   \n",
              "4     0.662038     -0.930030         -0.290067  ...  0.675226         2   \n",
              "\n",
              "   official_video    Stream  EnergyLiveness  most_playedon  Cluster      PCA1  \\\n",
              "0               2  3.744920       -0.975691              0        2  3.639427   \n",
              "1               2  0.732154        2.432865              0        2  1.745894   \n",
              "2               2 -0.287107        0.677596              0        2  1.334604   \n",
              "3               2  1.246198        1.549555              0        2  1.216986   \n",
              "4               2  1.999630        1.159920              1        2  3.418022   \n",
              "\n",
              "       PCA2  DBSCAN_Cluster  \n",
              "0  3.098091              -1  \n",
              "1 -0.450165              -1  \n",
              "2 -1.246265              -1  \n",
              "3  0.795395              -1  \n",
              "4  2.891852              -1  \n",
              "\n",
              "[5 rows x 28 columns]"
            ],
            "text/html": [
              "\n",
              "  <div id=\"df-aacf5976-bde4-4fb2-8f4f-9ddba5491b4f\" class=\"colab-df-container\">\n",
              "    <div>\n",
              "<style scoped>\n",
              "    .dataframe tbody tr th:only-of-type {\n",
              "        vertical-align: middle;\n",
              "    }\n",
              "\n",
              "    .dataframe tbody tr th {\n",
              "        vertical-align: top;\n",
              "    }\n",
              "\n",
              "    .dataframe thead th {\n",
              "        text-align: right;\n",
              "    }\n",
              "</style>\n",
              "<table border=\"1\" class=\"dataframe\">\n",
              "  <thead>\n",
              "    <tr style=\"text-align: right;\">\n",
              "      <th></th>\n",
              "      <th>Artist</th>\n",
              "      <th>Track</th>\n",
              "      <th>Album</th>\n",
              "      <th>Album_type</th>\n",
              "      <th>Danceability</th>\n",
              "      <th>Energy</th>\n",
              "      <th>Loudness</th>\n",
              "      <th>Speechiness</th>\n",
              "      <th>Acousticness</th>\n",
              "      <th>Instrumentalness</th>\n",
              "      <th>...</th>\n",
              "      <th>Comments</th>\n",
              "      <th>Licensed</th>\n",
              "      <th>official_video</th>\n",
              "      <th>Stream</th>\n",
              "      <th>EnergyLiveness</th>\n",
              "      <th>most_playedon</th>\n",
              "      <th>Cluster</th>\n",
              "      <th>PCA1</th>\n",
              "      <th>PCA2</th>\n",
              "      <th>DBSCAN_Cluster</th>\n",
              "    </tr>\n",
              "  </thead>\n",
              "  <tbody>\n",
              "    <tr>\n",
              "      <th>0</th>\n",
              "      <td>686</td>\n",
              "      <td>4982</td>\n",
              "      <td>2637</td>\n",
              "      <td>0</td>\n",
              "      <td>1.195758</td>\n",
              "      <td>0.325870</td>\n",
              "      <td>0.215386</td>\n",
              "      <td>0.715524</td>\n",
              "      <td>-0.989238</td>\n",
              "      <td>-0.278033</td>\n",
              "      <td>...</td>\n",
              "      <td>0.748338</td>\n",
              "      <td>2</td>\n",
              "      <td>2</td>\n",
              "      <td>3.744920</td>\n",
              "      <td>-0.975691</td>\n",
              "      <td>0</td>\n",
              "      <td>2</td>\n",
              "      <td>3.639427</td>\n",
              "      <td>3.098091</td>\n",
              "      <td>-1</td>\n",
              "    </tr>\n",
              "    <tr>\n",
              "      <th>1</th>\n",
              "      <td>686</td>\n",
              "      <td>12384</td>\n",
              "      <td>7751</td>\n",
              "      <td>0</td>\n",
              "      <td>0.337753</td>\n",
              "      <td>0.316536</td>\n",
              "      <td>0.401618</td>\n",
              "      <td>-0.593096</td>\n",
              "      <td>-0.714728</td>\n",
              "      <td>-0.286519</td>\n",
              "      <td>...</td>\n",
              "      <td>0.021741</td>\n",
              "      <td>2</td>\n",
              "      <td>2</td>\n",
              "      <td>0.732154</td>\n",
              "      <td>2.432865</td>\n",
              "      <td>0</td>\n",
              "      <td>2</td>\n",
              "      <td>1.745894</td>\n",
              "      <td>-0.450165</td>\n",
              "      <td>-1</td>\n",
              "    </tr>\n",
              "    <tr>\n",
              "      <th>2</th>\n",
              "      <td>686</td>\n",
              "      <td>10329</td>\n",
              "      <td>6933</td>\n",
              "      <td>2</td>\n",
              "      <td>0.452557</td>\n",
              "      <td>1.343283</td>\n",
              "      <td>0.807923</td>\n",
              "      <td>-0.396981</td>\n",
              "      <td>-0.869913</td>\n",
              "      <td>-0.047836</td>\n",
              "      <td>...</td>\n",
              "      <td>-0.101730</td>\n",
              "      <td>2</td>\n",
              "      <td>2</td>\n",
              "      <td>-0.287107</td>\n",
              "      <td>0.677596</td>\n",
              "      <td>0</td>\n",
              "      <td>2</td>\n",
              "      <td>1.334604</td>\n",
              "      <td>-1.246265</td>\n",
              "      <td>-1</td>\n",
              "    </tr>\n",
              "    <tr>\n",
              "      <th>3</th>\n",
              "      <td>686</td>\n",
              "      <td>10894</td>\n",
              "      <td>7751</td>\n",
              "      <td>0</td>\n",
              "      <td>0.416303</td>\n",
              "      <td>0.484549</td>\n",
              "      <td>0.402696</td>\n",
              "      <td>-0.630536</td>\n",
              "      <td>-1.018405</td>\n",
              "      <td>2.338837</td>\n",
              "      <td>...</td>\n",
              "      <td>0.148465</td>\n",
              "      <td>2</td>\n",
              "      <td>2</td>\n",
              "      <td>1.246198</td>\n",
              "      <td>1.549555</td>\n",
              "      <td>0</td>\n",
              "      <td>2</td>\n",
              "      <td>1.216986</td>\n",
              "      <td>0.795395</td>\n",
              "      <td>-1</td>\n",
              "    </tr>\n",
              "    <tr>\n",
              "      <th>4</th>\n",
              "      <td>686</td>\n",
              "      <td>2897</td>\n",
              "      <td>4139</td>\n",
              "      <td>0</td>\n",
              "      <td>0.259203</td>\n",
              "      <td>0.274533</td>\n",
              "      <td>-0.204499</td>\n",
              "      <td>0.662038</td>\n",
              "      <td>-0.930030</td>\n",
              "      <td>-0.290067</td>\n",
              "      <td>...</td>\n",
              "      <td>0.675226</td>\n",
              "      <td>2</td>\n",
              "      <td>2</td>\n",
              "      <td>1.999630</td>\n",
              "      <td>1.159920</td>\n",
              "      <td>1</td>\n",
              "      <td>2</td>\n",
              "      <td>3.418022</td>\n",
              "      <td>2.891852</td>\n",
              "      <td>-1</td>\n",
              "    </tr>\n",
              "  </tbody>\n",
              "</table>\n",
              "<p>5 rows × 28 columns</p>\n",
              "</div>\n",
              "    <div class=\"colab-df-buttons\">\n",
              "\n",
              "  <div class=\"colab-df-container\">\n",
              "    <button class=\"colab-df-convert\" onclick=\"convertToInteractive('df-aacf5976-bde4-4fb2-8f4f-9ddba5491b4f')\"\n",
              "            title=\"Convert this dataframe to an interactive table.\"\n",
              "            style=\"display:none;\">\n",
              "\n",
              "  <svg xmlns=\"http://www.w3.org/2000/svg\" height=\"24px\" viewBox=\"0 -960 960 960\">\n",
              "    <path d=\"M120-120v-720h720v720H120Zm60-500h600v-160H180v160Zm220 220h160v-160H400v160Zm0 220h160v-160H400v160ZM180-400h160v-160H180v160Zm440 0h160v-160H620v160ZM180-180h160v-160H180v160Zm440 0h160v-160H620v160Z\"/>\n",
              "  </svg>\n",
              "    </button>\n",
              "\n",
              "  <style>\n",
              "    .colab-df-container {\n",
              "      display:flex;\n",
              "      gap: 12px;\n",
              "    }\n",
              "\n",
              "    .colab-df-convert {\n",
              "      background-color: #E8F0FE;\n",
              "      border: none;\n",
              "      border-radius: 50%;\n",
              "      cursor: pointer;\n",
              "      display: none;\n",
              "      fill: #1967D2;\n",
              "      height: 32px;\n",
              "      padding: 0 0 0 0;\n",
              "      width: 32px;\n",
              "    }\n",
              "\n",
              "    .colab-df-convert:hover {\n",
              "      background-color: #E2EBFA;\n",
              "      box-shadow: 0px 1px 2px rgba(60, 64, 67, 0.3), 0px 1px 3px 1px rgba(60, 64, 67, 0.15);\n",
              "      fill: #174EA6;\n",
              "    }\n",
              "\n",
              "    .colab-df-buttons div {\n",
              "      margin-bottom: 4px;\n",
              "    }\n",
              "\n",
              "    [theme=dark] .colab-df-convert {\n",
              "      background-color: #3B4455;\n",
              "      fill: #D2E3FC;\n",
              "    }\n",
              "\n",
              "    [theme=dark] .colab-df-convert:hover {\n",
              "      background-color: #434B5C;\n",
              "      box-shadow: 0px 1px 3px 1px rgba(0, 0, 0, 0.15);\n",
              "      filter: drop-shadow(0px 1px 2px rgba(0, 0, 0, 0.3));\n",
              "      fill: #FFFFFF;\n",
              "    }\n",
              "  </style>\n",
              "\n",
              "    <script>\n",
              "      const buttonEl =\n",
              "        document.querySelector('#df-aacf5976-bde4-4fb2-8f4f-9ddba5491b4f button.colab-df-convert');\n",
              "      buttonEl.style.display =\n",
              "        google.colab.kernel.accessAllowed ? 'block' : 'none';\n",
              "\n",
              "      async function convertToInteractive(key) {\n",
              "        const element = document.querySelector('#df-aacf5976-bde4-4fb2-8f4f-9ddba5491b4f');\n",
              "        const dataTable =\n",
              "          await google.colab.kernel.invokeFunction('convertToInteractive',\n",
              "                                                    [key], {});\n",
              "        if (!dataTable) return;\n",
              "\n",
              "        const docLinkHtml = 'Like what you see? Visit the ' +\n",
              "          '<a target=\"_blank\" href=https://colab.research.google.com/notebooks/data_table.ipynb>data table notebook</a>'\n",
              "          + ' to learn more about interactive tables.';\n",
              "        element.innerHTML = '';\n",
              "        dataTable['output_type'] = 'display_data';\n",
              "        await google.colab.output.renderOutput(dataTable, element);\n",
              "        const docLink = document.createElement('div');\n",
              "        docLink.innerHTML = docLinkHtml;\n",
              "        element.appendChild(docLink);\n",
              "      }\n",
              "    </script>\n",
              "  </div>\n",
              "\n",
              "\n",
              "<div id=\"df-eb5fde45-c764-4a75-ae99-84061d4ef11c\">\n",
              "  <button class=\"colab-df-quickchart\" onclick=\"quickchart('df-eb5fde45-c764-4a75-ae99-84061d4ef11c')\"\n",
              "            title=\"Suggest charts\"\n",
              "            style=\"display:none;\">\n",
              "\n",
              "<svg xmlns=\"http://www.w3.org/2000/svg\" height=\"24px\"viewBox=\"0 0 24 24\"\n",
              "     width=\"24px\">\n",
              "    <g>\n",
              "        <path d=\"M19 3H5c-1.1 0-2 .9-2 2v14c0 1.1.9 2 2 2h14c1.1 0 2-.9 2-2V5c0-1.1-.9-2-2-2zM9 17H7v-7h2v7zm4 0h-2V7h2v10zm4 0h-2v-4h2v4z\"/>\n",
              "    </g>\n",
              "</svg>\n",
              "  </button>\n",
              "\n",
              "<style>\n",
              "  .colab-df-quickchart {\n",
              "      --bg-color: #E8F0FE;\n",
              "      --fill-color: #1967D2;\n",
              "      --hover-bg-color: #E2EBFA;\n",
              "      --hover-fill-color: #174EA6;\n",
              "      --disabled-fill-color: #AAA;\n",
              "      --disabled-bg-color: #DDD;\n",
              "  }\n",
              "\n",
              "  [theme=dark] .colab-df-quickchart {\n",
              "      --bg-color: #3B4455;\n",
              "      --fill-color: #D2E3FC;\n",
              "      --hover-bg-color: #434B5C;\n",
              "      --hover-fill-color: #FFFFFF;\n",
              "      --disabled-bg-color: #3B4455;\n",
              "      --disabled-fill-color: #666;\n",
              "  }\n",
              "\n",
              "  .colab-df-quickchart {\n",
              "    background-color: var(--bg-color);\n",
              "    border: none;\n",
              "    border-radius: 50%;\n",
              "    cursor: pointer;\n",
              "    display: none;\n",
              "    fill: var(--fill-color);\n",
              "    height: 32px;\n",
              "    padding: 0;\n",
              "    width: 32px;\n",
              "  }\n",
              "\n",
              "  .colab-df-quickchart:hover {\n",
              "    background-color: var(--hover-bg-color);\n",
              "    box-shadow: 0 1px 2px rgba(60, 64, 67, 0.3), 0 1px 3px 1px rgba(60, 64, 67, 0.15);\n",
              "    fill: var(--button-hover-fill-color);\n",
              "  }\n",
              "\n",
              "  .colab-df-quickchart-complete:disabled,\n",
              "  .colab-df-quickchart-complete:disabled:hover {\n",
              "    background-color: var(--disabled-bg-color);\n",
              "    fill: var(--disabled-fill-color);\n",
              "    box-shadow: none;\n",
              "  }\n",
              "\n",
              "  .colab-df-spinner {\n",
              "    border: 2px solid var(--fill-color);\n",
              "    border-color: transparent;\n",
              "    border-bottom-color: var(--fill-color);\n",
              "    animation:\n",
              "      spin 1s steps(1) infinite;\n",
              "  }\n",
              "\n",
              "  @keyframes spin {\n",
              "    0% {\n",
              "      border-color: transparent;\n",
              "      border-bottom-color: var(--fill-color);\n",
              "      border-left-color: var(--fill-color);\n",
              "    }\n",
              "    20% {\n",
              "      border-color: transparent;\n",
              "      border-left-color: var(--fill-color);\n",
              "      border-top-color: var(--fill-color);\n",
              "    }\n",
              "    30% {\n",
              "      border-color: transparent;\n",
              "      border-left-color: var(--fill-color);\n",
              "      border-top-color: var(--fill-color);\n",
              "      border-right-color: var(--fill-color);\n",
              "    }\n",
              "    40% {\n",
              "      border-color: transparent;\n",
              "      border-right-color: var(--fill-color);\n",
              "      border-top-color: var(--fill-color);\n",
              "    }\n",
              "    60% {\n",
              "      border-color: transparent;\n",
              "      border-right-color: var(--fill-color);\n",
              "    }\n",
              "    80% {\n",
              "      border-color: transparent;\n",
              "      border-right-color: var(--fill-color);\n",
              "      border-bottom-color: var(--fill-color);\n",
              "    }\n",
              "    90% {\n",
              "      border-color: transparent;\n",
              "      border-bottom-color: var(--fill-color);\n",
              "    }\n",
              "  }\n",
              "</style>\n",
              "\n",
              "  <script>\n",
              "    async function quickchart(key) {\n",
              "      const quickchartButtonEl =\n",
              "        document.querySelector('#' + key + ' button');\n",
              "      quickchartButtonEl.disabled = true;  // To prevent multiple clicks.\n",
              "      quickchartButtonEl.classList.add('colab-df-spinner');\n",
              "      try {\n",
              "        const charts = await google.colab.kernel.invokeFunction(\n",
              "            'suggestCharts', [key], {});\n",
              "      } catch (error) {\n",
              "        console.error('Error during call to suggestCharts:', error);\n",
              "      }\n",
              "      quickchartButtonEl.classList.remove('colab-df-spinner');\n",
              "      quickchartButtonEl.classList.add('colab-df-quickchart-complete');\n",
              "    }\n",
              "    (() => {\n",
              "      let quickchartButtonEl =\n",
              "        document.querySelector('#df-eb5fde45-c764-4a75-ae99-84061d4ef11c button');\n",
              "      quickchartButtonEl.style.display =\n",
              "        google.colab.kernel.accessAllowed ? 'block' : 'none';\n",
              "    })();\n",
              "  </script>\n",
              "</div>\n",
              "\n",
              "    </div>\n",
              "  </div>\n"
            ],
            "application/vnd.google.colaboratory.intrinsic+json": {
              "type": "dataframe",
              "variable_name": "data"
            }
          },
          "metadata": {},
          "execution_count": 5
        }
      ]
    },
    {
      "cell_type": "markdown",
      "source": [
        "# **3. Data Splitting**"
      ],
      "metadata": {
        "id": "wiwYLc_LGkty"
      }
    },
    {
      "cell_type": "markdown",
      "source": [
        "Tahap Data Splitting bertujuan untuk memisahkan dataset menjadi dua bagian: data latih (training set) dan data uji (test set)."
      ],
      "metadata": {
        "id": "pZJ8g0DTGkty"
      }
    },
    {
      "cell_type": "code",
      "source": [
        "# Memisahkan fitur dan target\n",
        "X = data.drop(columns=['Cluster'])  # Fitur adalah semua kolom kecuali 'Cluster'\n",
        "y = data['Cluster']  # Target adalah kolom 'Cluster'\n",
        "\n",
        "# Membagi dataset menjadi data latih dan data uji\n",
        "X_train, X_test, y_train, y_test = train_test_split(X, y, test_size=0.2, random_state=42)\n",
        "# Menampilkan ukuran data latih dan data uji\n",
        "print(f\"Ukuran Data Latih: {X_train.shape[0]} baris\")\n",
        "print(f\"Ukuran Data Uji: {X_test.shape[0]} baris\")"
      ],
      "metadata": {
        "id": "qKJbv935Gktz",
        "colab": {
          "base_uri": "https://localhost:8080/"
        },
        "outputId": "86f57a82-bafb-49dd-cbcd-0ec03c5f7369"
      },
      "execution_count": 6,
      "outputs": [
        {
          "output_type": "stream",
          "name": "stdout",
          "text": [
            "Ukuran Data Latih: 16475 baris\n",
            "Ukuran Data Uji: 4119 baris\n"
          ]
        }
      ]
    },
    {
      "cell_type": "markdown",
      "source": [
        "# **4. Membangun Model Klasifikasi**\n"
      ],
      "metadata": {
        "id": "OqwidneFGktz"
      }
    },
    {
      "cell_type": "markdown",
      "source": [
        "## **a. Membangun Model Klasifikasi**"
      ],
      "metadata": {
        "id": "vhkoWy-CGktz"
      }
    },
    {
      "cell_type": "markdown",
      "source": [
        "Setelah memilih algoritma klasifikasi yang sesuai, langkah selanjutnya adalah melatih model menggunakan data latih.\n",
        "\n",
        "Berikut adalah rekomendasi tahapannya.\n",
        "1. Pilih algoritma klasifikasi yang sesuai, seperti Logistic Regression, Decision Tree, Random Forest, atau K-Nearest Neighbors (KNN).\n",
        "2. Latih model menggunakan data latih."
      ],
      "metadata": {
        "id": "dKqIhGg9Gktz"
      }
    },
    {
      "cell_type": "code",
      "source": [
        "# Inisialisasi model Random Forest\n",
        "rf_model = RandomForestClassifier(random_state=42)\n"
      ],
      "metadata": {
        "id": "_HtcDSYoGktz"
      },
      "execution_count": 7,
      "outputs": []
    },
    {
      "cell_type": "markdown",
      "source": [
        "pada pelatihan kali ini saya menggunakan algoritma Randomforestsetelah melakukan beberapa pertimbangan berdasarkan fitur yang ada"
      ],
      "metadata": {
        "id": "6mShuErhGktz"
      }
    },
    {
      "cell_type": "markdown",
      "source": [
        "## **b. Evaluasi Model Klasifikasi**"
      ],
      "metadata": {
        "id": "7yk0TCP_Gktz"
      }
    },
    {
      "cell_type": "markdown",
      "source": [
        "Berikut adalah **rekomendasi** tahapannya.\n",
        "1. Lakukan prediksi menggunakan data uji.\n",
        "2. Hitung metrik evaluasi seperti Accuracy dan F1-Score (Opsional: Precision dan Recall).\n",
        "3. Buat confusion matrix untuk melihat detail prediksi benar dan salah."
      ],
      "metadata": {
        "id": "e8Zt2ZDdGkt0"
      }
    },
    {
      "cell_type": "code",
      "source": [
        "# Evaluasi model awal (sebelum tuning)\n",
        "rf_model.fit(X_train, y_train)  # Melatih model awal\n",
        "y_pred_initial = rf_model.predict(X_test)  # Prediksi data uji\n",
        "accuracy_initial = accuracy_score(y_test, y_pred_initial)  # Menghitung akurasi model awal\n",
        "print(f\"Akurasi Model Awal: {accuracy_initial * 100:.2f}%\")\n",
        "print(\"\\nConfusion Matrix (Awal):\")\n",
        "print(confusion_matrix(y_test, y_pred_initial))\n",
        "print(\"\\nClassification Report (Awal):\")\n",
        "print(classification_report(y_test, y_pred_initial))\n",
        "\n",
        "# Grid Search untuk menemukan hyperparameter terbaik\n",
        "param_grid = {\n",
        "    'n_estimators': [50, 100, 200],  # Jumlah pohon dalam forest\n",
        "    'max_depth': [None, 10, 20, 30],  # Kedalaman maksimum pohon\n",
        "    'min_samples_split': [2, 5, 10],  # Jumlah minimum sampel untuk split node\n",
        "    'min_samples_leaf': [1, 2, 4],  # Jumlah minimum sampel di leaf node\n",
        "    'bootstrap': [True, False]  # Apakah bootstrap digunakan\n",
        "}\n",
        "\n",
        "grid_search = GridSearchCV(estimator=rf_model, param_grid=param_grid,\n",
        "                           cv=5, n_jobs=-1, verbose=2, scoring='accuracy')"
      ],
      "metadata": {
        "id": "Z9nicLdkGkt0",
        "colab": {
          "base_uri": "https://localhost:8080/"
        },
        "outputId": "659e8740-f74b-4d47-ed31-8156b56fff3e"
      },
      "execution_count": 8,
      "outputs": [
        {
          "output_type": "stream",
          "name": "stdout",
          "text": [
            "Akurasi Model Awal: 99.03%\n",
            "\n",
            "Confusion Matrix (Awal):\n",
            "[[ 439    5   10]\n",
            " [   7  873   17]\n",
            " [   0    1 2767]]\n",
            "\n",
            "Classification Report (Awal):\n",
            "              precision    recall  f1-score   support\n",
            "\n",
            "           0       0.98      0.97      0.98       454\n",
            "           1       0.99      0.97      0.98       897\n",
            "           2       0.99      1.00      0.99      2768\n",
            "\n",
            "    accuracy                           0.99      4119\n",
            "   macro avg       0.99      0.98      0.98      4119\n",
            "weighted avg       0.99      0.99      0.99      4119\n",
            "\n"
          ]
        }
      ]
    },
    {
      "cell_type": "markdown",
      "source": [
        "Tulis hasil evaluasi algoritma yang digunakan, jika Anda menggunakan 2 algoritma, maka bandingkan hasilnya."
      ],
      "metadata": {
        "id": "xWft1GscGkt0"
      }
    },
    {
      "cell_type": "markdown",
      "source": [
        "## **c. Tuning Model Klasifikasi (Optional)**"
      ],
      "metadata": {
        "id": "3BeXYNgsGkt0"
      }
    },
    {
      "cell_type": "markdown",
      "source": [
        "Gunakan GridSearchCV, RandomizedSearchCV, atau metode lainnya untuk mencari kombinasi hyperparameter terbaik"
      ],
      "metadata": {
        "id": "3CI3r5FEGkt0"
      }
    },
    {
      "cell_type": "markdown",
      "source": [
        "### GridSearch"
      ],
      "metadata": {
        "id": "Ko_lI6kMdurU"
      }
    },
    {
      "cell_type": "code",
      "source": [
        "# Latih model dengan GridSearchCV\n",
        "grid_search.fit(X_train, y_train)\n",
        "\n",
        "# Menampilkan hyperparameter terbaik\n",
        "print(f\"Best Hyperparameters (Grid Search): {grid_search.best_params_}\")\n",
        "\n",
        "# Evaluasi model terbaik dari GridSearchCV\n",
        "best_model_grid = grid_search.best_estimator_  # Model terbaik hasil GridSearchCV\n",
        "y_pred_grid = best_model_grid.predict(X_test)  # Prediksi data uji dengan model terbaik\n",
        "accuracy_grid = accuracy_score(y_test, y_pred_grid)  # Menghitung akurasi\n",
        "print(f\"Akurasi Model (Grid Search): {accuracy_grid * 100:.2f}%\")\n",
        "print(\"\\nConfusion Matrix (Grid Search):\")\n",
        "print(confusion_matrix(y_test, y_pred_grid))\n",
        "print(\"\\nClassification Report (Grid Search):\")\n",
        "print(classification_report(y_test, y_pred_grid))\n",
        "\n",
        "# Randomized Search untuk menemukan hyperparameter terbaik\n",
        "param_dist = {\n",
        "    'n_estimators': randint(50, 200),  # Distribusi jumlah pohon\n",
        "    'max_depth': [None, 10, 20, 30, 40],  # Kedalaman maksimum pohon\n",
        "    'min_samples_split': randint(2, 10),  # Distribusi minimum sampel untuk split node\n",
        "    'min_samples_leaf': randint(1, 4),  # Distribusi minimum sampel di leaf node\n",
        "    'bootstrap': [True, False]  # Apakah bootstrap digunakan\n",
        "}\n",
        "\n",
        "random_search = RandomizedSearchCV(estimator=rf_model, param_distributions=param_dist,\n",
        "                                   n_iter=100, cv=5, n_jobs=-1, verbose=2, scoring='accuracy', random_state=42)\n",
        "\n",
        "# Latih model dengan RandomizedSearchCV\n",
        "random_search.fit(X_train, y_train)\n",
        "\n",
        "# Menampilkan hyperparameter terbaik dari RandomizedSearchCV\n",
        "print(f\"Best Hyperparameters (Randomized Search): {random_search.best_params_}\")\n",
        "\n",
        "# Evaluasi model terbaik dari RandomizedSearchCV\n",
        "best_model_random = random_search.best_estimator_  # Model terbaik hasil RandomizedSearchCV\n",
        "y_pred_random = best_model_random.predict(X_test)  # Prediksi data uji dengan model terbaik\n",
        "accuracy_random = accuracy_score(y_test, y_pred_random)  # Menghitung akurasi\n",
        "print(f\"Akurasi Model (Randomized Search): {accuracy_random * 100:.2f}%\")\n",
        "print(\"\\nConfusion Matrix (Randomized Search):\")\n",
        "print(confusion_matrix(y_test, y_pred_random))\n",
        "print(\"\\nClassification Report (Randomized Search):\")\n",
        "print(classification_report(y_test, y_pred_random))"
      ],
      "metadata": {
        "id": "EunEEY4zGkt0"
      },
      "execution_count": null,
      "outputs": []
    },
    {
      "cell_type": "markdown",
      "source": [
        "## **d. Evaluasi Model Klasifikasi setelah Tuning (Optional)**"
      ],
      "metadata": {
        "id": "Jr3w3pWlGkt0"
      }
    },
    {
      "cell_type": "markdown",
      "source": [
        "Berikut adalah rekomendasi tahapannya.\n",
        "1. Gunakan model dengan hyperparameter terbaik.\n",
        "2. Hitung ulang metrik evaluasi untuk melihat apakah ada peningkatan performa."
      ],
      "metadata": {
        "id": "i65fsi13Gkt0"
      }
    },
    {
      "cell_type": "code",
      "source": [
        "# Analisis hasil evaluasi\n",
        "print(\"\\nAnalisis Hasil Evaluasi Model Klasifikasi:\")\n",
        "\n",
        "# Bandingkan hasil evaluasi sebelum dan setelah tuning\n",
        "print(f\"Akurasi Sebelum Tuning: {accuracy_initial * 100:.2f}%\")\n",
        "print(f\"Akurasi Setelah Tuning (Grid Search): {accuracy_grid * 100:.2f}%\")\n",
        "print(f\"Akurasi Setelah Tuning (Randomized Search): {accuracy_random * 100:.2f}%\")\n",
        "\n",
        "# Identifikasi kelemahan model\n",
        "report_initial = classification_report(y_test, y_pred_initial, output_dict=True)\n",
        "report_grid = classification_report(y_test, y_pred_grid, output_dict=True)\n",
        "report_random = classification_report(y_test, y_pred_random, output_dict=True)\n",
        "\n",
        "for cls in report_initial.keys():\n",
        "    if isinstance(report_initial[cls], dict):\n",
        "        print(f\"\\nKelas {cls}:\")\n",
        "        print(f\"  Precision Sebelum Tuning: {report_initial[cls]['precision']:.2f}\")\n",
        "        print(f\"  Recall Sebelum Tuning: {report_initial[cls]['recall']:.2f}\")\n",
        "        print(f\"  Precision Setelah Tuning (Grid Search): {report_grid[cls]['precision']:.2f}\")\n",
        "        print(f\"  Recall Setelah Tuning (Grid Search): {report_grid[cls]['recall']:.2f}\")\n",
        "        print(f\"  Precision Setelah Tuning (Randomized Search): {report_random[cls]['precision']:.2f}\")\n",
        "        print(f\"  Recall Setelah Tuning (Randomized Search): {report_random[cls]['recall']:.2f}\")\n",
        "\n",
        "# Identifikasi overfitting atau underfitting\n",
        "if accuracy_initial > accuracy_grid or accuracy_initial > accuracy_random:\n",
        "    print(\"\\nModel mungkin mengalami overfitting pada data latih sebelum tuning.\")\n",
        "else:\n",
        "    print(\"\\nModel menunjukkan peningkatan performa setelah tuning.\")\n",
        "\n",
        "# Rekomendasi tindakan lanjutan\n",
        "print(\"\\nRekomendasi Tindakan Lanjutan:\")\n",
        "print(\"1. Mengumpulkan lebih banyak data untuk kelas minoritas jika precision atau recall rendah.\")\n",
        "print(\"2. Mencoba algoritma lain seperti Gradient Boosting atau XGBoost untuk membandingkan performa.\")\n",
        "print(\"3. Melakukan teknik resampling seperti oversampling atau undersampling untuk mengatasi ketidakseimbangan data.\")"
      ],
      "metadata": {
        "colab": {
          "base_uri": "https://localhost:8080/",
          "height": 493
        },
        "id": "s4voS49eyQrG",
        "outputId": "fc1c7872-dab6-4f9f-9af1-cf542227ebcd"
      },
      "execution_count": 2,
      "outputs": [
        {
          "output_type": "stream",
          "name": "stdout",
          "text": [
            "\n",
            "Analisis Hasil Evaluasi Model Klasifikasi:\n"
          ]
        },
        {
          "output_type": "error",
          "ename": "NameError",
          "evalue": "name 'accuracy_initial' is not defined",
          "traceback": [
            "\u001b[0;31m---------------------------------------------------------------------------\u001b[0m",
            "\u001b[0;31mNameError\u001b[0m                                 Traceback (most recent call last)",
            "\u001b[0;32m<ipython-input-1-1d612b8d5600>\u001b[0m in \u001b[0;36m<cell line: 5>\u001b[0;34m()\u001b[0m\n\u001b[1;32m      3\u001b[0m \u001b[0;34m\u001b[0m\u001b[0m\n\u001b[1;32m      4\u001b[0m \u001b[0;31m# Bandingkan hasil evaluasi sebelum dan setelah tuning\u001b[0m\u001b[0;34m\u001b[0m\u001b[0;34m\u001b[0m\u001b[0m\n\u001b[0;32m----> 5\u001b[0;31m \u001b[0mprint\u001b[0m\u001b[0;34m(\u001b[0m\u001b[0;34mf\"Akurasi Sebelum Tuning: {accuracy_initial * 100:.2f}%\"\u001b[0m\u001b[0;34m)\u001b[0m\u001b[0;34m\u001b[0m\u001b[0;34m\u001b[0m\u001b[0m\n\u001b[0m\u001b[1;32m      6\u001b[0m \u001b[0mprint\u001b[0m\u001b[0;34m(\u001b[0m\u001b[0;34mf\"Akurasi Setelah Tuning (Grid Search): {accuracy_grid * 100:.2f}%\"\u001b[0m\u001b[0;34m)\u001b[0m\u001b[0;34m\u001b[0m\u001b[0;34m\u001b[0m\u001b[0m\n\u001b[1;32m      7\u001b[0m \u001b[0mprint\u001b[0m\u001b[0;34m(\u001b[0m\u001b[0;34mf\"Akurasi Setelah Tuning (Randomized Search): {accuracy_random * 100:.2f}%\"\u001b[0m\u001b[0;34m)\u001b[0m\u001b[0;34m\u001b[0m\u001b[0;34m\u001b[0m\u001b[0m\n",
            "\u001b[0;31mNameError\u001b[0m: name 'accuracy_initial' is not defined"
          ]
        },
        {
          "output_type": "stream",
          "name": "stdout",
          "text": [
            "\n",
            "Analisis Hasil Evaluasi Model Klasifikasi:\n"
          ]
        },
        {
          "output_type": "error",
          "ename": "NameError",
          "evalue": "name 'accuracy_initial' is not defined",
          "traceback": [
            "\u001b[0;31m---------------------------------------------------------------------------\u001b[0m",
            "\u001b[0;31mNameError\u001b[0m                                 Traceback (most recent call last)",
            "\u001b[0;32m<ipython-input-2-1d612b8d5600>\u001b[0m in \u001b[0;36m<cell line: 5>\u001b[0;34m()\u001b[0m\n\u001b[1;32m      3\u001b[0m \u001b[0;34m\u001b[0m\u001b[0m\n\u001b[1;32m      4\u001b[0m \u001b[0;31m# Bandingkan hasil evaluasi sebelum dan setelah tuning\u001b[0m\u001b[0;34m\u001b[0m\u001b[0;34m\u001b[0m\u001b[0m\n\u001b[0;32m----> 5\u001b[0;31m \u001b[0mprint\u001b[0m\u001b[0;34m(\u001b[0m\u001b[0;34mf\"Akurasi Sebelum Tuning: {accuracy_initial * 100:.2f}%\"\u001b[0m\u001b[0;34m)\u001b[0m\u001b[0;34m\u001b[0m\u001b[0;34m\u001b[0m\u001b[0m\n\u001b[0m\u001b[1;32m      6\u001b[0m \u001b[0mprint\u001b[0m\u001b[0;34m(\u001b[0m\u001b[0;34mf\"Akurasi Setelah Tuning (Grid Search): {accuracy_grid * 100:.2f}%\"\u001b[0m\u001b[0;34m)\u001b[0m\u001b[0;34m\u001b[0m\u001b[0;34m\u001b[0m\u001b[0m\n\u001b[1;32m      7\u001b[0m \u001b[0mprint\u001b[0m\u001b[0;34m(\u001b[0m\u001b[0;34mf\"Akurasi Setelah Tuning (Randomized Search): {accuracy_random * 100:.2f}%\"\u001b[0m\u001b[0;34m)\u001b[0m\u001b[0;34m\u001b[0m\u001b[0;34m\u001b[0m\u001b[0m\n",
            "\u001b[0;31mNameError\u001b[0m: name 'accuracy_initial' is not defined"
          ]
        }
      ]
    },
    {
      "cell_type": "markdown",
      "source": [
        "## **e. Analisis Hasil Evaluasi Model Klasifikasi**"
      ],
      "metadata": {
        "id": "-o99n1-WGkt0"
      }
    },
    {
      "cell_type": "markdown",
      "source": [
        "Berikut adalah **rekomendasi** tahapannya.\n",
        "1. Bandingkan hasil evaluasi sebelum dan setelah tuning (jika dilakukan).\n",
        "2. Identifikasi kelemahan model, seperti:\n",
        "  - Precision atau Recall rendah untuk kelas tertentu.\n",
        "  - Apakah model mengalami overfitting atau underfitting?\n",
        "3. Berikan rekomendasi tindakan lanjutan, seperti mengumpulkan data tambahan atau mencoba algoritma lain jika hasil belum memuaskan."
      ],
      "metadata": {
        "id": "3fggwShAGkt0"
      }
    }
  ]
}