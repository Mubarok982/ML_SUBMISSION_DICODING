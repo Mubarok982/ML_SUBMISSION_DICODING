{
  "cells": [
    {
      "cell_type": "markdown",
      "metadata": {
        "id": "XL2Vp2A_Gkty"
      },
      "source": [
        "# **1. Import Library**"
      ]
    },
    {
      "cell_type": "markdown",
      "metadata": {
        "id": "AfPmBW9CGkty"
      },
      "source": [
        "Pada tahap ini, Anda perlu mengimpor beberapa pustaka (library) Python yang dibutuhkan untuk analisis data dan pembangunan model machine learning."
      ]
    },
    {
      "cell_type": "code",
      "execution_count": 1,
      "metadata": {
        "id": "Y-XaqolLGkty"
      },
      "outputs": [],
      "source": [
        "import pandas as pd\n",
        "from sklearn.ensemble import GradientBoostingClassifier\n",
        "from sklearn.metrics import accuracy_score, confusion_matrix, classification_report, f1_score\n",
        "from sklearn.model_selection import train_test_split, RandomizedSearchCV\n",
        "from scipy.stats import uniform, randint\n",
        "from sklearn.preprocessing import LabelEncoder"
      ]
    },
    {
      "cell_type": "markdown",
      "metadata": {
        "id": "UGB5C0tYGkty"
      },
      "source": [
        "# **2. Memuat Dataset dari Hasil Clustering**"
      ]
    },
    {
      "cell_type": "markdown",
      "metadata": {
        "id": "JsHFvCkyGkty"
      },
      "source": [
        "Memuat dataset hasil clustering dari file CSV ke dalam variabel DataFrame."
      ]
    },
    {
      "cell_type": "code",
      "execution_count": 2,
      "metadata": {
        "id": "Oi92pDdJGkty"
      },
      "outputs": [
        {
          "data": {
            "text/html": [
              "<div>\n",
              "<style scoped>\n",
              "    .dataframe tbody tr th:only-of-type {\n",
              "        vertical-align: middle;\n",
              "    }\n",
              "\n",
              "    .dataframe tbody tr th {\n",
              "        vertical-align: top;\n",
              "    }\n",
              "\n",
              "    .dataframe thead th {\n",
              "        text-align: right;\n",
              "    }\n",
              "</style>\n",
              "<table border=\"1\" class=\"dataframe\">\n",
              "  <thead>\n",
              "    <tr style=\"text-align: right;\">\n",
              "      <th></th>\n",
              "      <th>Artist</th>\n",
              "      <th>Track</th>\n",
              "      <th>Album</th>\n",
              "      <th>Album_type</th>\n",
              "      <th>Danceability</th>\n",
              "      <th>Energy</th>\n",
              "      <th>Loudness</th>\n",
              "      <th>Speechiness</th>\n",
              "      <th>Acousticness</th>\n",
              "      <th>Instrumentalness</th>\n",
              "      <th>...</th>\n",
              "      <th>Channel</th>\n",
              "      <th>Views</th>\n",
              "      <th>Likes</th>\n",
              "      <th>Comments</th>\n",
              "      <th>Licensed</th>\n",
              "      <th>official_video</th>\n",
              "      <th>Stream</th>\n",
              "      <th>EnergyLiveness</th>\n",
              "      <th>most_playedon</th>\n",
              "      <th>Cluster</th>\n",
              "    </tr>\n",
              "  </thead>\n",
              "  <tbody>\n",
              "    <tr>\n",
              "      <th>0</th>\n",
              "      <td>Gorillaz</td>\n",
              "      <td>Feel Good Inc.</td>\n",
              "      <td>Demon Days</td>\n",
              "      <td>album</td>\n",
              "      <td>0.818</td>\n",
              "      <td>0.705</td>\n",
              "      <td>-6.679</td>\n",
              "      <td>0.1770</td>\n",
              "      <td>0.008360</td>\n",
              "      <td>0.002330</td>\n",
              "      <td>...</td>\n",
              "      <td>Gorillaz</td>\n",
              "      <td>693555221.0</td>\n",
              "      <td>6220896.0</td>\n",
              "      <td>169907.0</td>\n",
              "      <td>True</td>\n",
              "      <td>True</td>\n",
              "      <td>1.040235e+09</td>\n",
              "      <td>1.150082</td>\n",
              "      <td>Spotify</td>\n",
              "      <td>1</td>\n",
              "    </tr>\n",
              "    <tr>\n",
              "      <th>1</th>\n",
              "      <td>Gorillaz</td>\n",
              "      <td>Rhinestone Eyes</td>\n",
              "      <td>Plastic Beach</td>\n",
              "      <td>album</td>\n",
              "      <td>0.676</td>\n",
              "      <td>0.703</td>\n",
              "      <td>-5.815</td>\n",
              "      <td>0.0302</td>\n",
              "      <td>0.086900</td>\n",
              "      <td>0.000687</td>\n",
              "      <td>...</td>\n",
              "      <td>Gorillaz</td>\n",
              "      <td>72011645.0</td>\n",
              "      <td>1079128.0</td>\n",
              "      <td>31003.0</td>\n",
              "      <td>True</td>\n",
              "      <td>True</td>\n",
              "      <td>3.100837e+08</td>\n",
              "      <td>15.183585</td>\n",
              "      <td>Spotify</td>\n",
              "      <td>0</td>\n",
              "    </tr>\n",
              "    <tr>\n",
              "      <th>2</th>\n",
              "      <td>Gorillaz</td>\n",
              "      <td>New Gold (feat. Tame Impala and Bootie Brown)</td>\n",
              "      <td>New Gold (feat. Tame Impala and Bootie Brown)</td>\n",
              "      <td>single</td>\n",
              "      <td>0.695</td>\n",
              "      <td>0.923</td>\n",
              "      <td>-3.930</td>\n",
              "      <td>0.0522</td>\n",
              "      <td>0.042500</td>\n",
              "      <td>0.046900</td>\n",
              "      <td>...</td>\n",
              "      <td>Gorillaz</td>\n",
              "      <td>8435055.0</td>\n",
              "      <td>282142.0</td>\n",
              "      <td>7399.0</td>\n",
              "      <td>True</td>\n",
              "      <td>True</td>\n",
              "      <td>6.306347e+07</td>\n",
              "      <td>7.956897</td>\n",
              "      <td>Spotify</td>\n",
              "      <td>0</td>\n",
              "    </tr>\n",
              "    <tr>\n",
              "      <th>3</th>\n",
              "      <td>Gorillaz</td>\n",
              "      <td>On Melancholy Hill</td>\n",
              "      <td>Plastic Beach</td>\n",
              "      <td>album</td>\n",
              "      <td>0.689</td>\n",
              "      <td>0.739</td>\n",
              "      <td>-5.810</td>\n",
              "      <td>0.0260</td>\n",
              "      <td>0.000015</td>\n",
              "      <td>0.509000</td>\n",
              "      <td>...</td>\n",
              "      <td>Gorillaz</td>\n",
              "      <td>211754952.0</td>\n",
              "      <td>1788577.0</td>\n",
              "      <td>55229.0</td>\n",
              "      <td>True</td>\n",
              "      <td>True</td>\n",
              "      <td>4.346636e+08</td>\n",
              "      <td>11.546875</td>\n",
              "      <td>Spotify</td>\n",
              "      <td>0</td>\n",
              "    </tr>\n",
              "    <tr>\n",
              "      <th>4</th>\n",
              "      <td>Gorillaz</td>\n",
              "      <td>Clint Eastwood</td>\n",
              "      <td>Gorillaz</td>\n",
              "      <td>album</td>\n",
              "      <td>0.663</td>\n",
              "      <td>0.694</td>\n",
              "      <td>-8.627</td>\n",
              "      <td>0.1710</td>\n",
              "      <td>0.025300</td>\n",
              "      <td>0.000000</td>\n",
              "      <td>...</td>\n",
              "      <td>Gorillaz</td>\n",
              "      <td>618480958.0</td>\n",
              "      <td>6197318.0</td>\n",
              "      <td>155930.0</td>\n",
              "      <td>True</td>\n",
              "      <td>True</td>\n",
              "      <td>6.172597e+08</td>\n",
              "      <td>9.942693</td>\n",
              "      <td>Youtube</td>\n",
              "      <td>1</td>\n",
              "    </tr>\n",
              "  </tbody>\n",
              "</table>\n",
              "<p>5 rows × 25 columns</p>\n",
              "</div>"
            ],
            "text/plain": [
              "     Artist                                          Track  \\\n",
              "0  Gorillaz                                 Feel Good Inc.   \n",
              "1  Gorillaz                                Rhinestone Eyes   \n",
              "2  Gorillaz  New Gold (feat. Tame Impala and Bootie Brown)   \n",
              "3  Gorillaz                             On Melancholy Hill   \n",
              "4  Gorillaz                                 Clint Eastwood   \n",
              "\n",
              "                                           Album Album_type  Danceability  \\\n",
              "0                                     Demon Days      album         0.818   \n",
              "1                                  Plastic Beach      album         0.676   \n",
              "2  New Gold (feat. Tame Impala and Bootie Brown)     single         0.695   \n",
              "3                                  Plastic Beach      album         0.689   \n",
              "4                                       Gorillaz      album         0.663   \n",
              "\n",
              "   Energy  Loudness  Speechiness  Acousticness  Instrumentalness  ...  \\\n",
              "0   0.705    -6.679       0.1770      0.008360          0.002330  ...   \n",
              "1   0.703    -5.815       0.0302      0.086900          0.000687  ...   \n",
              "2   0.923    -3.930       0.0522      0.042500          0.046900  ...   \n",
              "3   0.739    -5.810       0.0260      0.000015          0.509000  ...   \n",
              "4   0.694    -8.627       0.1710      0.025300          0.000000  ...   \n",
              "\n",
              "    Channel        Views      Likes  Comments Licensed official_video  \\\n",
              "0  Gorillaz  693555221.0  6220896.0  169907.0     True           True   \n",
              "1  Gorillaz   72011645.0  1079128.0   31003.0     True           True   \n",
              "2  Gorillaz    8435055.0   282142.0    7399.0     True           True   \n",
              "3  Gorillaz  211754952.0  1788577.0   55229.0     True           True   \n",
              "4  Gorillaz  618480958.0  6197318.0  155930.0     True           True   \n",
              "\n",
              "         Stream  EnergyLiveness  most_playedon Cluster  \n",
              "0  1.040235e+09        1.150082        Spotify       1  \n",
              "1  3.100837e+08       15.183585        Spotify       0  \n",
              "2  6.306347e+07        7.956897        Spotify       0  \n",
              "3  4.346636e+08       11.546875        Spotify       0  \n",
              "4  6.172597e+08        9.942693        Youtube       1  \n",
              "\n",
              "[5 rows x 25 columns]"
            ]
          },
          "execution_count": 2,
          "metadata": {},
          "output_type": "execute_result"
        }
      ],
      "source": [
        "data = pd.read_csv('data_with_clusters.csv')\n",
        "data.head()"
      ]
    },
    {
      "cell_type": "markdown",
      "metadata": {
        "id": "wiwYLc_LGkty"
      },
      "source": [
        "# **3. Data Splitting**"
      ]
    },
    {
      "cell_type": "markdown",
      "metadata": {
        "id": "pZJ8g0DTGkty"
      },
      "source": [
        "Tahap Data Splitting bertujuan untuk memisahkan dataset menjadi dua bagian: data latih (training set) dan data uji (test set)."
      ]
    },
    {
      "cell_type": "code",
      "execution_count": 3,
      "metadata": {
        "id": "qKJbv935Gktz"
      },
      "outputs": [
        {
          "name": "stdout",
          "output_type": "stream",
          "text": [
            "Ukuran data latih (X_train): (16475, 23)\n",
            "Ukuran data uji (X_test): (4119, 23)\n"
          ]
        }
      ],
      "source": [
        "# Menentukan fitur dan target\n",
        "X = data.drop(columns=['Stream', 'Cluster'])\n",
        "y = data['Cluster']\n",
        "\n",
        "# Melakukan splitting data\n",
        "X_train, X_test, y_train, y_test = train_test_split(X, y, test_size=0.2, random_state=42)\n",
        "\n",
        "# Menampilkan ukuran dataset\n",
        "print(f\"Ukuran data latih (X_train): {X_train.shape}\")\n",
        "print(f\"Ukuran data uji (X_test): {X_test.shape}\")\n"
      ]
    },
    {
      "cell_type": "markdown",
      "metadata": {
        "id": "OqwidneFGktz"
      },
      "source": [
        "# **4. Membangun Model Klasifikasi**\n"
      ]
    },
    {
      "cell_type": "markdown",
      "metadata": {
        "id": "vhkoWy-CGktz"
      },
      "source": [
        "## **a. Membangun Model Klasifikasi**"
      ]
    },
    {
      "cell_type": "markdown",
      "metadata": {
        "id": "dKqIhGg9Gktz"
      },
      "source": [
        "Setelah memilih algoritma klasifikasi yang sesuai, langkah selanjutnya adalah melatih model menggunakan data latih.\n",
        "\n",
        "Berikut adalah rekomendasi tahapannya.\n",
        "1. Pilih algoritma klasifikasi yang sesuai, seperti Logistic Regression, Decision Tree, Random Forest, atau K-Nearest Neighbors (KNN).\n",
        "2. Latih model menggunakan data latih."
      ]
    },
    {
      "cell_type": "markdown",
      "metadata": {
        "id": "sISvJNhrrEa_"
      },
      "source": [
        "### **a.1 Encoding Data kategorikal**\n",
        "\n"
      ]
    },
    {
      "cell_type": "code",
      "execution_count": 4,
      "metadata": {
        "id": "rn67Xzmvq1Zf"
      },
      "outputs": [],
      "source": [
        "label_encoders = {}\n",
        "for col in X_train.select_dtypes(include=['object']).columns:\n",
        "    le = LabelEncoder()\n",
        "    le.fit(pd.concat([X_train[col], X_test[col]], axis=0))  # Latih encoder dengan gabungan X_train dan X_test\n",
        "    X_train[col] = le.transform(X_train[col])\n",
        "    X_test[col] = le.transform(X_test[col])\n",
        "    label_encoders[col] = le  # Simpan encoder jika diperlukan nanti"
      ]
    },
    {
      "cell_type": "markdown",
      "metadata": {
        "id": "pofHKJFvvnUv"
      },
      "source": [
        "### **a.2 Membangun model klasifikasi**"
      ]
    },
    {
      "cell_type": "code",
      "execution_count": 12,
      "metadata": {
        "colab": {
          "base_uri": "https://localhost:8080/"
        },
        "id": "_HtcDSYoGktz",
        "outputId": "55e2342f-a28a-4e6f-f879-a3d2d9b61c8d"
      },
      "outputs": [],
      "source": [
        "# Inisialisasi model Gradient Boosting\n",
        "gbm = GradientBoostingClassifier(random_state=42)  "
      ]
    },
    {
      "cell_type": "markdown",
      "metadata": {
        "id": "6mShuErhGktz"
      },
      "source": [
        "pada pelatihan kali ini saya menggunakan algoritma GradientBoostingClassifier"
      ]
    },
    {
      "cell_type": "markdown",
      "metadata": {},
      "source": [
        "### **a.3 Melatih Model Dengan Data latih**"
      ]
    },
    {
      "cell_type": "code",
      "execution_count": 13,
      "metadata": {},
      "outputs": [
        {
          "data": {
            "text/html": [
              "<style>#sk-container-id-1 {\n",
              "  /* Definition of color scheme common for light and dark mode */\n",
              "  --sklearn-color-text: #000;\n",
              "  --sklearn-color-text-muted: #666;\n",
              "  --sklearn-color-line: gray;\n",
              "  /* Definition of color scheme for unfitted estimators */\n",
              "  --sklearn-color-unfitted-level-0: #fff5e6;\n",
              "  --sklearn-color-unfitted-level-1: #f6e4d2;\n",
              "  --sklearn-color-unfitted-level-2: #ffe0b3;\n",
              "  --sklearn-color-unfitted-level-3: chocolate;\n",
              "  /* Definition of color scheme for fitted estimators */\n",
              "  --sklearn-color-fitted-level-0: #f0f8ff;\n",
              "  --sklearn-color-fitted-level-1: #d4ebff;\n",
              "  --sklearn-color-fitted-level-2: #b3dbfd;\n",
              "  --sklearn-color-fitted-level-3: cornflowerblue;\n",
              "\n",
              "  /* Specific color for light theme */\n",
              "  --sklearn-color-text-on-default-background: var(--sg-text-color, var(--theme-code-foreground, var(--jp-content-font-color1, black)));\n",
              "  --sklearn-color-background: var(--sg-background-color, var(--theme-background, var(--jp-layout-color0, white)));\n",
              "  --sklearn-color-border-box: var(--sg-text-color, var(--theme-code-foreground, var(--jp-content-font-color1, black)));\n",
              "  --sklearn-color-icon: #696969;\n",
              "\n",
              "  @media (prefers-color-scheme: dark) {\n",
              "    /* Redefinition of color scheme for dark theme */\n",
              "    --sklearn-color-text-on-default-background: var(--sg-text-color, var(--theme-code-foreground, var(--jp-content-font-color1, white)));\n",
              "    --sklearn-color-background: var(--sg-background-color, var(--theme-background, var(--jp-layout-color0, #111)));\n",
              "    --sklearn-color-border-box: var(--sg-text-color, var(--theme-code-foreground, var(--jp-content-font-color1, white)));\n",
              "    --sklearn-color-icon: #878787;\n",
              "  }\n",
              "}\n",
              "\n",
              "#sk-container-id-1 {\n",
              "  color: var(--sklearn-color-text);\n",
              "}\n",
              "\n",
              "#sk-container-id-1 pre {\n",
              "  padding: 0;\n",
              "}\n",
              "\n",
              "#sk-container-id-1 input.sk-hidden--visually {\n",
              "  border: 0;\n",
              "  clip: rect(1px 1px 1px 1px);\n",
              "  clip: rect(1px, 1px, 1px, 1px);\n",
              "  height: 1px;\n",
              "  margin: -1px;\n",
              "  overflow: hidden;\n",
              "  padding: 0;\n",
              "  position: absolute;\n",
              "  width: 1px;\n",
              "}\n",
              "\n",
              "#sk-container-id-1 div.sk-dashed-wrapped {\n",
              "  border: 1px dashed var(--sklearn-color-line);\n",
              "  margin: 0 0.4em 0.5em 0.4em;\n",
              "  box-sizing: border-box;\n",
              "  padding-bottom: 0.4em;\n",
              "  background-color: var(--sklearn-color-background);\n",
              "}\n",
              "\n",
              "#sk-container-id-1 div.sk-container {\n",
              "  /* jupyter's `normalize.less` sets `[hidden] { display: none; }`\n",
              "     but bootstrap.min.css set `[hidden] { display: none !important; }`\n",
              "     so we also need the `!important` here to be able to override the\n",
              "     default hidden behavior on the sphinx rendered scikit-learn.org.\n",
              "     See: https://github.com/scikit-learn/scikit-learn/issues/21755 */\n",
              "  display: inline-block !important;\n",
              "  position: relative;\n",
              "}\n",
              "\n",
              "#sk-container-id-1 div.sk-text-repr-fallback {\n",
              "  display: none;\n",
              "}\n",
              "\n",
              "div.sk-parallel-item,\n",
              "div.sk-serial,\n",
              "div.sk-item {\n",
              "  /* draw centered vertical line to link estimators */\n",
              "  background-image: linear-gradient(var(--sklearn-color-text-on-default-background), var(--sklearn-color-text-on-default-background));\n",
              "  background-size: 2px 100%;\n",
              "  background-repeat: no-repeat;\n",
              "  background-position: center center;\n",
              "}\n",
              "\n",
              "/* Parallel-specific style estimator block */\n",
              "\n",
              "#sk-container-id-1 div.sk-parallel-item::after {\n",
              "  content: \"\";\n",
              "  width: 100%;\n",
              "  border-bottom: 2px solid var(--sklearn-color-text-on-default-background);\n",
              "  flex-grow: 1;\n",
              "}\n",
              "\n",
              "#sk-container-id-1 div.sk-parallel {\n",
              "  display: flex;\n",
              "  align-items: stretch;\n",
              "  justify-content: center;\n",
              "  background-color: var(--sklearn-color-background);\n",
              "  position: relative;\n",
              "}\n",
              "\n",
              "#sk-container-id-1 div.sk-parallel-item {\n",
              "  display: flex;\n",
              "  flex-direction: column;\n",
              "}\n",
              "\n",
              "#sk-container-id-1 div.sk-parallel-item:first-child::after {\n",
              "  align-self: flex-end;\n",
              "  width: 50%;\n",
              "}\n",
              "\n",
              "#sk-container-id-1 div.sk-parallel-item:last-child::after {\n",
              "  align-self: flex-start;\n",
              "  width: 50%;\n",
              "}\n",
              "\n",
              "#sk-container-id-1 div.sk-parallel-item:only-child::after {\n",
              "  width: 0;\n",
              "}\n",
              "\n",
              "/* Serial-specific style estimator block */\n",
              "\n",
              "#sk-container-id-1 div.sk-serial {\n",
              "  display: flex;\n",
              "  flex-direction: column;\n",
              "  align-items: center;\n",
              "  background-color: var(--sklearn-color-background);\n",
              "  padding-right: 1em;\n",
              "  padding-left: 1em;\n",
              "}\n",
              "\n",
              "\n",
              "/* Toggleable style: style used for estimator/Pipeline/ColumnTransformer box that is\n",
              "clickable and can be expanded/collapsed.\n",
              "- Pipeline and ColumnTransformer use this feature and define the default style\n",
              "- Estimators will overwrite some part of the style using the `sk-estimator` class\n",
              "*/\n",
              "\n",
              "/* Pipeline and ColumnTransformer style (default) */\n",
              "\n",
              "#sk-container-id-1 div.sk-toggleable {\n",
              "  /* Default theme specific background. It is overwritten whether we have a\n",
              "  specific estimator or a Pipeline/ColumnTransformer */\n",
              "  background-color: var(--sklearn-color-background);\n",
              "}\n",
              "\n",
              "/* Toggleable label */\n",
              "#sk-container-id-1 label.sk-toggleable__label {\n",
              "  cursor: pointer;\n",
              "  display: flex;\n",
              "  width: 100%;\n",
              "  margin-bottom: 0;\n",
              "  padding: 0.5em;\n",
              "  box-sizing: border-box;\n",
              "  text-align: center;\n",
              "  align-items: start;\n",
              "  justify-content: space-between;\n",
              "  gap: 0.5em;\n",
              "}\n",
              "\n",
              "#sk-container-id-1 label.sk-toggleable__label .caption {\n",
              "  font-size: 0.6rem;\n",
              "  font-weight: lighter;\n",
              "  color: var(--sklearn-color-text-muted);\n",
              "}\n",
              "\n",
              "#sk-container-id-1 label.sk-toggleable__label-arrow:before {\n",
              "  /* Arrow on the left of the label */\n",
              "  content: \"▸\";\n",
              "  float: left;\n",
              "  margin-right: 0.25em;\n",
              "  color: var(--sklearn-color-icon);\n",
              "}\n",
              "\n",
              "#sk-container-id-1 label.sk-toggleable__label-arrow:hover:before {\n",
              "  color: var(--sklearn-color-text);\n",
              "}\n",
              "\n",
              "/* Toggleable content - dropdown */\n",
              "\n",
              "#sk-container-id-1 div.sk-toggleable__content {\n",
              "  max-height: 0;\n",
              "  max-width: 0;\n",
              "  overflow: hidden;\n",
              "  text-align: left;\n",
              "  /* unfitted */\n",
              "  background-color: var(--sklearn-color-unfitted-level-0);\n",
              "}\n",
              "\n",
              "#sk-container-id-1 div.sk-toggleable__content.fitted {\n",
              "  /* fitted */\n",
              "  background-color: var(--sklearn-color-fitted-level-0);\n",
              "}\n",
              "\n",
              "#sk-container-id-1 div.sk-toggleable__content pre {\n",
              "  margin: 0.2em;\n",
              "  border-radius: 0.25em;\n",
              "  color: var(--sklearn-color-text);\n",
              "  /* unfitted */\n",
              "  background-color: var(--sklearn-color-unfitted-level-0);\n",
              "}\n",
              "\n",
              "#sk-container-id-1 div.sk-toggleable__content.fitted pre {\n",
              "  /* unfitted */\n",
              "  background-color: var(--sklearn-color-fitted-level-0);\n",
              "}\n",
              "\n",
              "#sk-container-id-1 input.sk-toggleable__control:checked~div.sk-toggleable__content {\n",
              "  /* Expand drop-down */\n",
              "  max-height: 200px;\n",
              "  max-width: 100%;\n",
              "  overflow: auto;\n",
              "}\n",
              "\n",
              "#sk-container-id-1 input.sk-toggleable__control:checked~label.sk-toggleable__label-arrow:before {\n",
              "  content: \"▾\";\n",
              "}\n",
              "\n",
              "/* Pipeline/ColumnTransformer-specific style */\n",
              "\n",
              "#sk-container-id-1 div.sk-label input.sk-toggleable__control:checked~label.sk-toggleable__label {\n",
              "  color: var(--sklearn-color-text);\n",
              "  background-color: var(--sklearn-color-unfitted-level-2);\n",
              "}\n",
              "\n",
              "#sk-container-id-1 div.sk-label.fitted input.sk-toggleable__control:checked~label.sk-toggleable__label {\n",
              "  background-color: var(--sklearn-color-fitted-level-2);\n",
              "}\n",
              "\n",
              "/* Estimator-specific style */\n",
              "\n",
              "/* Colorize estimator box */\n",
              "#sk-container-id-1 div.sk-estimator input.sk-toggleable__control:checked~label.sk-toggleable__label {\n",
              "  /* unfitted */\n",
              "  background-color: var(--sklearn-color-unfitted-level-2);\n",
              "}\n",
              "\n",
              "#sk-container-id-1 div.sk-estimator.fitted input.sk-toggleable__control:checked~label.sk-toggleable__label {\n",
              "  /* fitted */\n",
              "  background-color: var(--sklearn-color-fitted-level-2);\n",
              "}\n",
              "\n",
              "#sk-container-id-1 div.sk-label label.sk-toggleable__label,\n",
              "#sk-container-id-1 div.sk-label label {\n",
              "  /* The background is the default theme color */\n",
              "  color: var(--sklearn-color-text-on-default-background);\n",
              "}\n",
              "\n",
              "/* On hover, darken the color of the background */\n",
              "#sk-container-id-1 div.sk-label:hover label.sk-toggleable__label {\n",
              "  color: var(--sklearn-color-text);\n",
              "  background-color: var(--sklearn-color-unfitted-level-2);\n",
              "}\n",
              "\n",
              "/* Label box, darken color on hover, fitted */\n",
              "#sk-container-id-1 div.sk-label.fitted:hover label.sk-toggleable__label.fitted {\n",
              "  color: var(--sklearn-color-text);\n",
              "  background-color: var(--sklearn-color-fitted-level-2);\n",
              "}\n",
              "\n",
              "/* Estimator label */\n",
              "\n",
              "#sk-container-id-1 div.sk-label label {\n",
              "  font-family: monospace;\n",
              "  font-weight: bold;\n",
              "  display: inline-block;\n",
              "  line-height: 1.2em;\n",
              "}\n",
              "\n",
              "#sk-container-id-1 div.sk-label-container {\n",
              "  text-align: center;\n",
              "}\n",
              "\n",
              "/* Estimator-specific */\n",
              "#sk-container-id-1 div.sk-estimator {\n",
              "  font-family: monospace;\n",
              "  border: 1px dotted var(--sklearn-color-border-box);\n",
              "  border-radius: 0.25em;\n",
              "  box-sizing: border-box;\n",
              "  margin-bottom: 0.5em;\n",
              "  /* unfitted */\n",
              "  background-color: var(--sklearn-color-unfitted-level-0);\n",
              "}\n",
              "\n",
              "#sk-container-id-1 div.sk-estimator.fitted {\n",
              "  /* fitted */\n",
              "  background-color: var(--sklearn-color-fitted-level-0);\n",
              "}\n",
              "\n",
              "/* on hover */\n",
              "#sk-container-id-1 div.sk-estimator:hover {\n",
              "  /* unfitted */\n",
              "  background-color: var(--sklearn-color-unfitted-level-2);\n",
              "}\n",
              "\n",
              "#sk-container-id-1 div.sk-estimator.fitted:hover {\n",
              "  /* fitted */\n",
              "  background-color: var(--sklearn-color-fitted-level-2);\n",
              "}\n",
              "\n",
              "/* Specification for estimator info (e.g. \"i\" and \"?\") */\n",
              "\n",
              "/* Common style for \"i\" and \"?\" */\n",
              "\n",
              ".sk-estimator-doc-link,\n",
              "a:link.sk-estimator-doc-link,\n",
              "a:visited.sk-estimator-doc-link {\n",
              "  float: right;\n",
              "  font-size: smaller;\n",
              "  line-height: 1em;\n",
              "  font-family: monospace;\n",
              "  background-color: var(--sklearn-color-background);\n",
              "  border-radius: 1em;\n",
              "  height: 1em;\n",
              "  width: 1em;\n",
              "  text-decoration: none !important;\n",
              "  margin-left: 0.5em;\n",
              "  text-align: center;\n",
              "  /* unfitted */\n",
              "  border: var(--sklearn-color-unfitted-level-1) 1pt solid;\n",
              "  color: var(--sklearn-color-unfitted-level-1);\n",
              "}\n",
              "\n",
              ".sk-estimator-doc-link.fitted,\n",
              "a:link.sk-estimator-doc-link.fitted,\n",
              "a:visited.sk-estimator-doc-link.fitted {\n",
              "  /* fitted */\n",
              "  border: var(--sklearn-color-fitted-level-1) 1pt solid;\n",
              "  color: var(--sklearn-color-fitted-level-1);\n",
              "}\n",
              "\n",
              "/* On hover */\n",
              "div.sk-estimator:hover .sk-estimator-doc-link:hover,\n",
              ".sk-estimator-doc-link:hover,\n",
              "div.sk-label-container:hover .sk-estimator-doc-link:hover,\n",
              ".sk-estimator-doc-link:hover {\n",
              "  /* unfitted */\n",
              "  background-color: var(--sklearn-color-unfitted-level-3);\n",
              "  color: var(--sklearn-color-background);\n",
              "  text-decoration: none;\n",
              "}\n",
              "\n",
              "div.sk-estimator.fitted:hover .sk-estimator-doc-link.fitted:hover,\n",
              ".sk-estimator-doc-link.fitted:hover,\n",
              "div.sk-label-container:hover .sk-estimator-doc-link.fitted:hover,\n",
              ".sk-estimator-doc-link.fitted:hover {\n",
              "  /* fitted */\n",
              "  background-color: var(--sklearn-color-fitted-level-3);\n",
              "  color: var(--sklearn-color-background);\n",
              "  text-decoration: none;\n",
              "}\n",
              "\n",
              "/* Span, style for the box shown on hovering the info icon */\n",
              ".sk-estimator-doc-link span {\n",
              "  display: none;\n",
              "  z-index: 9999;\n",
              "  position: relative;\n",
              "  font-weight: normal;\n",
              "  right: .2ex;\n",
              "  padding: .5ex;\n",
              "  margin: .5ex;\n",
              "  width: min-content;\n",
              "  min-width: 20ex;\n",
              "  max-width: 50ex;\n",
              "  color: var(--sklearn-color-text);\n",
              "  box-shadow: 2pt 2pt 4pt #999;\n",
              "  /* unfitted */\n",
              "  background: var(--sklearn-color-unfitted-level-0);\n",
              "  border: .5pt solid var(--sklearn-color-unfitted-level-3);\n",
              "}\n",
              "\n",
              ".sk-estimator-doc-link.fitted span {\n",
              "  /* fitted */\n",
              "  background: var(--sklearn-color-fitted-level-0);\n",
              "  border: var(--sklearn-color-fitted-level-3);\n",
              "}\n",
              "\n",
              ".sk-estimator-doc-link:hover span {\n",
              "  display: block;\n",
              "}\n",
              "\n",
              "/* \"?\"-specific style due to the `<a>` HTML tag */\n",
              "\n",
              "#sk-container-id-1 a.estimator_doc_link {\n",
              "  float: right;\n",
              "  font-size: 1rem;\n",
              "  line-height: 1em;\n",
              "  font-family: monospace;\n",
              "  background-color: var(--sklearn-color-background);\n",
              "  border-radius: 1rem;\n",
              "  height: 1rem;\n",
              "  width: 1rem;\n",
              "  text-decoration: none;\n",
              "  /* unfitted */\n",
              "  color: var(--sklearn-color-unfitted-level-1);\n",
              "  border: var(--sklearn-color-unfitted-level-1) 1pt solid;\n",
              "}\n",
              "\n",
              "#sk-container-id-1 a.estimator_doc_link.fitted {\n",
              "  /* fitted */\n",
              "  border: var(--sklearn-color-fitted-level-1) 1pt solid;\n",
              "  color: var(--sklearn-color-fitted-level-1);\n",
              "}\n",
              "\n",
              "/* On hover */\n",
              "#sk-container-id-1 a.estimator_doc_link:hover {\n",
              "  /* unfitted */\n",
              "  background-color: var(--sklearn-color-unfitted-level-3);\n",
              "  color: var(--sklearn-color-background);\n",
              "  text-decoration: none;\n",
              "}\n",
              "\n",
              "#sk-container-id-1 a.estimator_doc_link.fitted:hover {\n",
              "  /* fitted */\n",
              "  background-color: var(--sklearn-color-fitted-level-3);\n",
              "}\n",
              "</style><div id=\"sk-container-id-1\" class=\"sk-top-container\"><div class=\"sk-text-repr-fallback\"><pre>GradientBoostingClassifier(random_state=42)</pre><b>In a Jupyter environment, please rerun this cell to show the HTML representation or trust the notebook. <br />On GitHub, the HTML representation is unable to render, please try loading this page with nbviewer.org.</b></div><div class=\"sk-container\" hidden><div class=\"sk-item\"><div class=\"sk-estimator fitted sk-toggleable\"><input class=\"sk-toggleable__control sk-hidden--visually\" id=\"sk-estimator-id-1\" type=\"checkbox\" checked><label for=\"sk-estimator-id-1\" class=\"sk-toggleable__label fitted sk-toggleable__label-arrow\"><div><div>GradientBoostingClassifier</div></div><div><a class=\"sk-estimator-doc-link fitted\" rel=\"noreferrer\" target=\"_blank\" href=\"https://scikit-learn.org/1.6/modules/generated/sklearn.ensemble.GradientBoostingClassifier.html\">?<span>Documentation for GradientBoostingClassifier</span></a><span class=\"sk-estimator-doc-link fitted\">i<span>Fitted</span></span></div></label><div class=\"sk-toggleable__content fitted\"><pre>GradientBoostingClassifier(random_state=42)</pre></div> </div></div></div></div>"
            ],
            "text/plain": [
              "GradientBoostingClassifier(random_state=42)"
            ]
          },
          "execution_count": 13,
          "metadata": {},
          "output_type": "execute_result"
        }
      ],
      "source": [
        "# Melatih Model Dengan Data Latih\n",
        "gbm.fit(X_train, y_train)  "
      ]
    },
    {
      "cell_type": "markdown",
      "metadata": {},
      "source": [
        "### **a.4 Prediksi Pada Data latih**"
      ]
    },
    {
      "cell_type": "code",
      "execution_count": 14,
      "metadata": {},
      "outputs": [],
      "source": [
        "# Prediksi pada data latih\n",
        "y_train_pred = gbm.predict(X_train)  "
      ]
    },
    {
      "cell_type": "markdown",
      "metadata": {},
      "source": [
        "## **b. Evaluasi Model Klasifikasi**"
      ]
    },
    {
      "cell_type": "markdown",
      "metadata": {},
      "source": [
        "### **b.1 Lakukan prediksi menggunakan data uji.**"
      ]
    },
    {
      "cell_type": "code",
      "execution_count": 15,
      "metadata": {
        "id": "Z9nicLdkGkt0"
      },
      "outputs": [],
      "source": [
        "# Prediksi pada data uji\n",
        "y_test_pred = gbm.predict(X_test)  "
      ]
    },
    {
      "cell_type": "markdown",
      "metadata": {},
      "source": [
        "### **b.2 Evaluasi Pada training set.**"
      ]
    },
    {
      "cell_type": "code",
      "execution_count": 16,
      "metadata": {},
      "outputs": [],
      "source": [
        "# Evaluasi pada data latih\n",
        "train_accuracy = accuracy_score(y_train, y_train_pred)\n",
        "train_f1 = f1_score(y_train, y_train_pred, average='weighted')"
      ]
    },
    {
      "cell_type": "markdown",
      "metadata": {},
      "source": [
        "### **b.3 Evaluasi Pada Data Uji.**"
      ]
    },
    {
      "cell_type": "code",
      "execution_count": 18,
      "metadata": {},
      "outputs": [],
      "source": [
        "# Evaluasi pada testing set\n",
        "test_accuracy = accuracy_score(y_test, y_test_pred)\n",
        "test_f1 = f1_score(y_test, y_test_pred, average='weighted')"
      ]
    },
    {
      "cell_type": "markdown",
      "metadata": {},
      "source": [
        "### **b.4 Buat confusion matrix untuk melihat detail prediksi benar dan salah.**"
      ]
    },
    {
      "cell_type": "code",
      "execution_count": 19,
      "metadata": {},
      "outputs": [
        {
          "name": "stdout",
          "output_type": "stream",
          "text": [
            "Training Accuracy: 99.89%\n",
            "Training F1-Score: 99.89%\n",
            "Testing Accuracy: 99.13%\n",
            "Testing F1-Score: 99.13%\n",
            "\n",
            "Classification Report (Testing Set):\n",
            "              precision    recall  f1-score   support\n",
            "\n",
            "           0       1.00      0.99      0.99      1411\n",
            "           1       0.99      1.00      0.99      1128\n",
            "           2       0.99      0.99      0.99       729\n",
            "           3       0.99      0.99      0.99       851\n",
            "\n",
            "    accuracy                           0.99      4119\n",
            "   macro avg       0.99      0.99      0.99      4119\n",
            "weighted avg       0.99      0.99      0.99      4119\n",
            "\n",
            "\n",
            "Confusion Matrix (Testing Set):\n",
            "[[1397    0    8    6]\n",
            " [   0 1123    0    5]\n",
            " [   5    0  724    0]\n",
            " [   2   10    0  839]]\n"
          ]
        }
      ],
      "source": [
        "# Output hasil\n",
        "print(f\"Training Accuracy: {train_accuracy:.2%}\")\n",
        "print(f\"Training F1-Score: {train_f1:.2%}\")\n",
        "print(f\"Testing Accuracy: {test_accuracy:.2%}\")\n",
        "print(f\"Testing F1-Score: {test_f1:.2%}\")\n",
        "print(\"\\nClassification Report (Testing Set):\")\n",
        "print(classification_report(y_test, y_test_pred))\n",
        "print(\"\\nConfusion Matrix (Testing Set):\")\n",
        "print(confusion_matrix(y_test, y_test_pred))"
      ]
    },
    {
      "cell_type": "markdown",
      "metadata": {
        "id": "3BeXYNgsGkt0"
      },
      "source": [
        "## **c. Tuning Model Klasifikasi (Optional)**"
      ]
    },
    {
      "cell_type": "markdown",
      "metadata": {
        "id": "3CI3r5FEGkt0"
      },
      "source": [
        "Gunakan GridSearchCV, RandomizedSearchCV, atau metode lainnya untuk mencari kombinasi hyperparameter terbaik"
      ]
    },
    {
      "cell_type": "code",
      "execution_count": 20,
      "metadata": {
        "id": "EunEEY4zGkt0"
      },
      "outputs": [
        {
          "name": "stdout",
          "output_type": "stream",
          "text": [
            "Fitting 3 folds for each of 50 candidates, totalling 150 fits\n"
          ]
        },
        {
          "name": "stderr",
          "output_type": "stream",
          "text": [
            "C:\\Users\\rizqy\\AppData\\Roaming\\Python\\Python312\\site-packages\\sklearn\\model_selection\\_search.py:1107: UserWarning: One or more of the test scores are non-finite: [nan nan nan nan nan nan nan nan nan nan nan nan nan nan nan nan nan nan\n",
            " nan nan nan nan nan nan nan nan nan nan nan nan nan nan nan nan nan nan\n",
            " nan nan nan nan nan nan nan nan nan nan nan nan nan nan]\n",
            "  warnings.warn(\n"
          ]
        },
        {
          "name": "stdout",
          "output_type": "stream",
          "text": [
            "Best Hyperparameters (Randomized Search): {'learning_rate': np.float64(0.0849080237694725), 'max_depth': 5, 'max_features': None, 'min_samples_leaf': 4, 'min_samples_split': 6, 'n_estimators': 70, 'subsample': np.float64(0.7468055921327309)}\n",
            "Training Accuracy: 99.99%\n",
            "Training F1-Score: 99.99%\n",
            "Testing Accuracy: 99.20%\n",
            "Testing F1-Score: 99.20%\n",
            "\n",
            "Classification Report (Testing Set):\n",
            "              precision    recall  f1-score   support\n",
            "\n",
            "           0       0.99      0.99      0.99      1411\n",
            "           1       1.00      1.00      1.00      1128\n",
            "           2       0.99      0.99      0.99       729\n",
            "           3       0.98      0.99      0.99       851\n",
            "\n",
            "    accuracy                           0.99      4119\n",
            "   macro avg       0.99      0.99      0.99      4119\n",
            "weighted avg       0.99      0.99      0.99      4119\n",
            "\n",
            "\n",
            "Confusion Matrix (Testing Set):\n",
            "[[1394    0    8    9]\n",
            " [   0 1124    0    4]\n",
            " [   6    0  723    0]\n",
            " [   3    3    0  845]]\n"
          ]
        }
      ],
      "source": [
        "# Parameter untuk tuning\n",
        "param_dist = {\n",
        "    'n_estimators': randint(50, 171),         \n",
        "    'learning_rate': uniform(0.01, 0.2),      \n",
        "    'max_depth': randint(5, 7),              \n",
        "    'min_samples_split': randint(2, 8),      \n",
        "    'min_samples_leaf': randint(2, 8),       \n",
        "    'subsample': uniform(0.7, 0.3),           \n",
        "    'max_features': ['sqrt', 'log2', None]    \n",
        "}\n",
        "\n",
        "# Randomized Search untuk hyperparameter tuning\n",
        "random_search = RandomizedSearchCV(\n",
        "    estimator=gbm,\n",
        "    param_distributions=param_dist,\n",
        "    n_iter=50,  # Jumlah iterasi pencarian\n",
        "    cv=3,       # Cross-validation (3 fold)\n",
        "    scoring='f1',  # Gunakan F1-Score sebagai metrik utama\n",
        "    random_state=42,\n",
        "    verbose=1,\n",
        "    n_jobs=-1\n",
        ")\n",
        "\n",
        "# Fit model pada training set\n",
        "random_search.fit(X_train, y_train)\n",
        "\n",
        "# Model terbaik dari Randomized Search\n",
        "best_gbm = random_search.best_estimator_ \n",
        "\n",
        "# Prediksi pada training dan testing set\n",
        "y_train_pred = best_gbm.predict(X_train)\n",
        "y_test_pred = best_gbm.predict(X_test)\n",
        "\n",
        "# Evaluasi pada training set\n",
        "train_accuracy = accuracy_score(y_train, y_train_pred)\n",
        "train_f1 = f1_score(y_train, y_train_pred, average='weighted')\n",
        "\n",
        "# Evaluasi pada testing set\n",
        "test_accuracy = accuracy_score(y_test, y_test_pred)\n",
        "test_f1 = f1_score(y_test, y_test_pred, average='weighted')\n",
        "\n",
        "# Output hasil\n",
        "print(\"Best Hyperparameters (Randomized Search):\", random_search.best_params_)\n",
        "print(f\"Training Accuracy: {train_accuracy:.2%}\")\n",
        "print(f\"Training F1-Score: {train_f1:.2%}\")\n",
        "print(f\"Testing Accuracy: {test_accuracy:.2%}\")\n",
        "print(f\"Testing F1-Score: {test_f1:.2%}\")\n",
        "print(\"\\nClassification Report (Testing Set):\")\n",
        "print(classification_report(y_test, y_test_pred))\n",
        "print(\"\\nConfusion Matrix (Testing Set):\")\n",
        "print(confusion_matrix(y_test, y_test_pred))"
      ]
    },
    {
      "cell_type": "markdown",
      "metadata": {},
      "source": [
        "## **d. Evaluasi Model Klasifikasi setelah Tuning (Optional)**"
      ]
    },
    {
      "cell_type": "markdown",
      "metadata": {
        "id": "i65fsi13Gkt0"
      },
      "source": [
        "Berikut adalah rekomendasi tahapannya.\n",
        "1. Gunakan model dengan hyperparameter terbaik.\n",
        "2. Hitung ulang metrik evaluasi untuk melihat apakah ada peningkatan performa."
      ]
    },
    {
      "cell_type": "code",
      "execution_count": null,
      "metadata": {
        "id": "s4voS49eyQrG"
      },
      "outputs": [],
      "source": []
    },
    {
      "cell_type": "markdown",
      "metadata": {
        "id": "-o99n1-WGkt0"
      },
      "source": [
        "## **e. Analisis Hasil Evaluasi Model Klasifikasi**"
      ]
    },
    {
      "cell_type": "markdown",
      "metadata": {
        "id": "3fggwShAGkt0"
      },
      "source": [
        "Berikut adalah **rekomendasi** tahapannya.\n",
        "1. Bandingkan hasil evaluasi sebelum dan setelah tuning (jika dilakukan).\n",
        "  - setelah tuning tidak ada perbedaan yang signifikan pada metrik evaluasi \n",
        "2. Identifikasi kelemahan model, seperti:\n",
        "  - Precision atau Recall rendah untuk kelas tertentu.\n",
        "     - precision dan Recall sangat tinggi untuk Cluster 2 \n",
        "     - sedangkan untuk Cluster lain tidak setinggi cluster 1 dengan rincian:\n",
        "       - Cluster  precision    recall  \n",
        "        -  0       0.99      0.99      \n",
        "        -  1       1.00      1.00      \n",
        "        -  2       0.99      0.99      \n",
        "        -  3       0.98      0.99      \n",
        "  - Apakah model mengalami overfitting atau underfitting?\n",
        "   - Tidak\n",
        "3. Berikan rekomendasi tindakan lanjutan, seperti mengumpulkan data tambahan atau mencoba algoritma lain jika hasil belum memuaskan."
      ]
    },
    {
      "cell_type": "markdown",
      "metadata": {
        "id": "_D6kC3rhuUZg"
      },
      "source": [
        "### Rekomendai Hasil Evaluasi Model KLasifikasi\n",
        " "
      ]
    }
  ],
  "metadata": {
    "colab": {
      "provenance": []
    },
    "kernelspec": {
      "display_name": "Banjir_notebook",
      "language": "python",
      "name": "python3"
    },
    "language_info": {
      "codemirror_mode": {
        "name": "ipython",
        "version": 3
      },
      "file_extension": ".py",
      "mimetype": "text/x-python",
      "name": "python",
      "nbconvert_exporter": "python",
      "pygments_lexer": "ipython3",
      "version": "3.12.8"
    }
  },
  "nbformat": 4,
  "nbformat_minor": 0
}
